{
 "cells": [
  {
   "cell_type": "markdown",
   "id": "b234e62d-45c0-4bbc-ba76-fff934bfc349",
   "metadata": {},
   "source": [
    "# Assignment_10 Questions & Answers :-"
   ]
  },
  {
   "cell_type": "markdown",
   "id": "460d0441-9603-4ec8-b45a-593fc9ca4716",
   "metadata": {},
   "source": [
    "### Q1.What is multithreading in python? why is it used? Name the module used to handle threads in python.\n",
    "### Ans:-\n",
    "#### What is Multithreading in Python?\n",
    "Multithreading in Python refers to the concurrent execution of multiple threads within a single process. A thread is the smallest unit of a process and represents a separate path of execution. Multithreading allows a program to perform multiple operations simultaneously, improving efficiency and performance, especially for I/O-bound tasks.\n",
    "\n",
    "#### Why is Multithreading Used?\n",
    "(i)Concurrency: Multithreading allows multiple tasks to run concurrently, improving the responsiveness and efficiency of programs.\n",
    "\n",
    "(ii)I/O-Bound Operations: It is particularly useful for I/O-bound operations (e.g., file I/O, network communication) where threads can perform tasks while waiting for I/O operations to complete.\n",
    "\n",
    "(iii)Improved Responsiveness: In GUI applications, multithreading can keep the interface responsive while performing background operations.\n",
    "\n",
    "(iv)Resource Sharing: Threads within the same process share memory and resources, making data sharing between threads more straightforward than inter-process communication.\n",
    "\n",
    "#### Module Used to Handle Threads in Python\n",
    "The threading module is used to handle threads in Python. It provides a high-level interface for creating and managing threads.\n",
    "\n",
    "#### Basic Example of Using the threading Module\n",
    "Here is a basic example of using the threading module to create and start threads:"
   ]
  },
  {
   "cell_type": "code",
   "execution_count": 1,
   "id": "0fa61946-8ea7-4086-be44-4f85825a36ce",
   "metadata": {},
   "outputs": [
    {
     "name": "stdout",
     "output_type": "stream",
     "text": [
      "Number: 0\n",
      "Letter: A\n",
      "Number: 1\n",
      "Letter: B\n",
      "Number: 2\n",
      "Letter: C\n",
      "Number: 3\n",
      "Letter: D\n",
      "Number: 4\n",
      "Letter: E\n",
      "Threads have finished execution.\n"
     ]
    }
   ],
   "source": [
    "import threading\n",
    "import time\n",
    "\n",
    "def print_numbers():\n",
    "    for i in range(5):\n",
    "        print(f\"Number: {i}\")\n",
    "        time.sleep(1)\n",
    "\n",
    "def print_letters():\n",
    "    for letter in ['A', 'B', 'C', 'D', 'E']:\n",
    "        print(f\"Letter: {letter}\")\n",
    "        time.sleep(1)\n",
    "\n",
    "# Create threads\n",
    "number_thread = threading.Thread(target=print_numbers)\n",
    "letter_thread = threading.Thread(target=print_letters)\n",
    "\n",
    "# Start threads\n",
    "number_thread.start()\n",
    "letter_thread.start()\n",
    "\n",
    "# Wait for threads to complete\n",
    "number_thread.join()\n",
    "letter_thread.join()\n",
    "\n",
    "print(\"Threads have finished execution.\")\n"
   ]
  },
  {
   "cell_type": "markdown",
   "id": "edfb9838-cb89-43ca-919a-553193d630c1",
   "metadata": {},
   "source": [
    "Explanation:\n",
    "\n",
    "Two functions, print_numbers and print_letters, are defined to print numbers and letters with a delay.\n",
    "\n",
    "Two Thread objects are created, specifying the target functions to be executed in separate threads.\n",
    "\n",
    "The threads are started using the start() method.\n",
    "\n",
    "The join() method is called to wait for both threads to complete before printing the final message."
   ]
  },
  {
   "cell_type": "markdown",
   "id": "af48301d-f941-4451-9333-8a354c8fa7aa",
   "metadata": {},
   "source": [
    "### Q2.Why threading module used? Write the use of the following functions .\n",
    " 1.activeCount()\n",
    " \n",
    " 2.currentThread()\n",
    " \n",
    " 3.enumerate()\n",
    "### Ans:-\n",
    "The threading module is used in Python for creating and managing threads. It provides a high-level interface for working with threads, allowing developers to execute multiple operations concurrently within a single process. This is particularly useful for improving the performance of I/O-bound tasks and enhancing the responsiveness of applications.\n",
    "\n",
    "#### Use of Specific Functions in the threading Module\n",
    "##### #activeCount()\n",
    "\n",
    "Purpose: Returns the number of Thread objects currently alive. This function is useful for monitoring the number of active threads in a program.\n",
    "\n"
   ]
  },
  {
   "cell_type": "code",
   "execution_count": 2,
   "id": "7fc470e4-640e-43c5-bb7e-41129baa2c36",
   "metadata": {},
   "outputs": [
    {
     "name": "stderr",
     "output_type": "stream",
     "text": [
      "/tmp/ipykernel_84/1180922663.py:14: DeprecationWarning: activeCount() is deprecated, use active_count() instead\n",
      "  print(f\"Active thread count: {threading.activeCount()}\")\n"
     ]
    },
    {
     "name": "stdout",
     "output_type": "stream",
     "text": [
      "Active thread count: 10\n",
      "Active thread count after joining: 8\n"
     ]
    },
    {
     "name": "stderr",
     "output_type": "stream",
     "text": [
      "/tmp/ipykernel_84/1180922663.py:18: DeprecationWarning: activeCount() is deprecated, use active_count() instead\n",
      "  print(f\"Active thread count after joining: {threading.activeCount()}\")\n"
     ]
    }
   ],
   "source": [
    "import threading\n",
    "import time\n",
    "\n",
    "def example_thread():\n",
    "    time.sleep(2)\n",
    "\n",
    "# Create and start a few threads\n",
    "thread1 = threading.Thread(target=example_thread)\n",
    "thread2 = threading.Thread(target=example_thread)\n",
    "\n",
    "thread1.start()\n",
    "thread2.start()\n",
    "\n",
    "print(f\"Active thread count: {threading.activeCount()}\")\n",
    "\n",
    "thread1.join()\n",
    "thread2.join()\n",
    "print(f\"Active thread count after joining: {threading.activeCount()}\")\n"
   ]
  },
  {
   "cell_type": "markdown",
   "id": "35803e3a-49aa-4199-b61e-32f9311ba23b",
   "metadata": {},
   "source": [
    "Explanation:-\n",
    "This code creates and starts two threads, then prints the active thread count. After the threads complete, it prints the active thread count again."
   ]
  },
  {
   "cell_type": "markdown",
   "id": "306a88d0-9ac0-425c-8503-e4d14df3b236",
   "metadata": {},
   "source": [
    "##### #currentThread()\n",
    "Purpose: Returns the current Thread object corresponding to the caller’s thread of control. This function is useful for obtaining information about the thread that is currently executing."
   ]
  },
  {
   "cell_type": "code",
   "execution_count": 3,
   "id": "90bb6b26-e766-4166-ba98-75f898833017",
   "metadata": {},
   "outputs": [
    {
     "name": "stdout",
     "output_type": "stream",
     "text": [
      "Current thread: ExampleThread\n"
     ]
    },
    {
     "name": "stderr",
     "output_type": "stream",
     "text": [
      "/tmp/ipykernel_84/1544804756.py:4: DeprecationWarning: currentThread() is deprecated, use current_thread() instead\n",
      "  current = threading.currentThread()\n",
      "/tmp/ipykernel_84/1544804756.py:5: DeprecationWarning: getName() is deprecated, get the name attribute instead\n",
      "  print(f\"Current thread: {current.getName()}\")\n"
     ]
    }
   ],
   "source": [
    "import threading\n",
    "\n",
    "def example_thread():\n",
    "    current = threading.currentThread()\n",
    "    print(f\"Current thread: {current.getName()}\")\n",
    "\n",
    "# Create and start a thread\n",
    "thread = threading.Thread(target=example_thread, name='ExampleThread')\n",
    "thread.start()\n",
    "thread.join()\n"
   ]
  },
  {
   "cell_type": "markdown",
   "id": "3ac511df-15ed-421e-9dec-b753ab492c01",
   "metadata": {},
   "source": [
    "Explanation:- This code creates and starts a thread, and within the thread function, it retrieves and prints the current thread's name."
   ]
  },
  {
   "cell_type": "markdown",
   "id": "e77da45f-df56-4de0-8597-ac684188d5ca",
   "metadata": {},
   "source": [
    "##### #enumerate()\n",
    "\n",
    "Purpose: Returns a list of all Thread objects currently alive. This function is useful for getting references to all active threads."
   ]
  },
  {
   "cell_type": "code",
   "execution_count": 4,
   "id": "5eec8a05-2584-4a44-8e4d-f3255db2b54f",
   "metadata": {},
   "outputs": [
    {
     "name": "stderr",
     "output_type": "stream",
     "text": [
      "/tmp/ipykernel_84/4067835855.py:15: DeprecationWarning: getName() is deprecated, get the name attribute instead\n",
      "  print(f\"Active threads: {[t.getName() for t in threads]}\")\n"
     ]
    },
    {
     "name": "stdout",
     "output_type": "stream",
     "text": [
      "Active threads: ['MainThread', 'IOPub', 'Heartbeat', 'Thread-3 (_watch_pipe_fd)', 'Thread-4 (_watch_pipe_fd)', 'Control', 'IPythonHistorySavingThread', 'Thread-2', 'Thread1', 'Thread2']\n"
     ]
    }
   ],
   "source": [
    "import threading\n",
    "import time\n",
    "\n",
    "def example_thread():\n",
    "    time.sleep(2)\n",
    "\n",
    "# Create and start a few threads\n",
    "thread1 = threading.Thread(target=example_thread, name='Thread1')\n",
    "thread2 = threading.Thread(target=example_thread, name='Thread2')\n",
    "\n",
    "thread1.start()\n",
    "thread2.start()\n",
    "\n",
    "threads = threading.enumerate()\n",
    "print(f\"Active threads: {[t.getName() for t in threads]}\")\n",
    "\n",
    "thread1.join()\n",
    "thread2.join()\n"
   ]
  },
  {
   "cell_type": "markdown",
   "id": "939c343d-b4ad-4d43-be8b-2c122667c971",
   "metadata": {},
   "source": [
    "Explanation:- This code creates and starts two threads, then retrieves and prints a list of all active thread names."
   ]
  },
  {
   "cell_type": "markdown",
   "id": "a2427f14-695d-47ed-9e26-d567bd6804f7",
   "metadata": {},
   "source": [
    "#### Q3. Explain the following functions.?\n",
    "\n",
    "(i)run()\n",
    "\n",
    "(ii)start()\n",
    "\n",
    "(iii)join()\n",
    "\n",
    "(iv)isAlive()\n",
    "\n",
    "### Ans:-\n",
    "#### Here is an explanation of the specified functions used in the threading module:-\n",
    " \n",
    "#### i) run()\n",
    "     Purpose: The run() method defines the thread's activity. It represents the entry point for the thread. When a thread  is started by calling the start() method, Python internally invokes the run() method.\n",
    "\n",
    "\n"
   ]
  },
  {
   "cell_type": "code",
   "execution_count": 5,
   "id": "25fe7bb9-a232-4c23-a3e9-b51325b8d9f8",
   "metadata": {},
   "outputs": [
    {
     "name": "stdout",
     "output_type": "stream",
     "text": [
      "Thread is running\n"
     ]
    }
   ],
   "source": [
    "import threading\n",
    "\n",
    "class MyThread(threading.Thread):\n",
    "    def run(self):\n",
    "        print(\"Thread is running\")\n",
    "\n",
    "# Create an instance of MyThread\n",
    "thread = MyThread()\n",
    "\n",
    "# Start the thread\n",
    "thread.start()\n",
    "\n",
    "# Wait for the thread to finish\n",
    "thread.join()\n"
   ]
  },
  {
   "cell_type": "markdown",
   "id": "156b7b0f-1260-48c1-b9c6-fdf687cd8071",
   "metadata": {},
   "source": [
    "Explanation: In this example, a custom thread class MyThread is created by subclassing threading.Thread and overriding the run() method to define the thread's behavior."
   ]
  },
  {
   "cell_type": "markdown",
   "id": "e7cab9f2-9f3c-4d88-9cd4-23260364ef4e",
   "metadata": {},
   "source": [
    "#### (ii) start()\n",
    "\n",
    "Purpose: The start() method begins the thread's activity. It arranges for the run() method to be called in a separate thread of control. Calling start() on a thread that is already started will raise a RuntimeError."
   ]
  },
  {
   "cell_type": "code",
   "execution_count": 6,
   "id": "e3b70174-0e09-4df6-a02c-9509c47532ef",
   "metadata": {},
   "outputs": [
    {
     "name": "stdout",
     "output_type": "stream",
     "text": [
      "Thread is running\n"
     ]
    }
   ],
   "source": [
    "import threading\n",
    "\n",
    "def example_thread():\n",
    "    print(\"Thread is running\")\n",
    "\n",
    "# Create a Thread object\n",
    "thread = threading.Thread(target=example_thread)\n",
    "\n",
    "# Start the thread\n",
    "thread.start()\n",
    "\n",
    "# Wait for the thread to finish\n",
    "thread.join()\n"
   ]
  },
  {
   "cell_type": "markdown",
   "id": "84e99f68-d980-48b0-8bb9-a17c14bee1b7",
   "metadata": {},
   "source": [
    "Explanation: This code creates a Thread object with a target function example_thread, starts the thread using start(), and then waits for it to finish using join()."
   ]
  },
  {
   "cell_type": "markdown",
   "id": "172b6217-dd8d-4186-b14a-b5a5cdaa27d3",
   "metadata": {},
   "source": [
    "#### (iii) join()\n",
    "Purpose: The join() method blocks the calling thread until the thread whose join() method is called terminates (either normally or through an unhandled exception), or until the optional timeout occurs. It is used to ensure that a thread has completed its execution before the program continues.\n",
    "\n"
   ]
  },
  {
   "cell_type": "code",
   "execution_count": 7,
   "id": "0d059047-1eea-44bf-bc2c-d9e15a485373",
   "metadata": {},
   "outputs": [
    {
     "name": "stdout",
     "output_type": "stream",
     "text": [
      "Thread has finished\n",
      "Main program continues\n"
     ]
    }
   ],
   "source": [
    "import threading\n",
    "import time\n",
    "\n",
    "def example_thread():\n",
    "    time.sleep(2)\n",
    "    print(\"Thread has finished\")\n",
    "\n",
    "# Create a Thread object\n",
    "thread = threading.Thread(target=example_thread)\n",
    "\n",
    "# Start the thread\n",
    "thread.start()\n",
    "\n",
    "# Wait for the thread to finish\n",
    "thread.join()\n",
    "\n",
    "print(\"Main program continues\")\n"
   ]
  },
  {
   "cell_type": "markdown",
   "id": "5c2c67a9-c604-417d-915d-98df65865ff8",
   "metadata": {},
   "source": [
    "Explanation: This code creates and starts a thread that sleeps for 2 seconds, then prints a message. The join() method ensures that the main program waits for the thread to finish before printing the final message."
   ]
  },
  {
   "cell_type": "markdown",
   "id": "8a70d61e-6b99-4a39-a1cf-e63784a3e4fe",
   "metadata": {},
   "source": [
    "#### (iv) isAlive()\n",
    "Purpose: The isAlive() method (in Python 3.x, it is named is_alive()) returns a boolean indicating whether the thread is currently active. A thread is considered active if it has been started and has not yet terminated."
   ]
  },
  {
   "cell_type": "code",
   "execution_count": 8,
   "id": "d91a58ee-c819-4261-b61f-53e4d183220d",
   "metadata": {},
   "outputs": [
    {
     "name": "stdout",
     "output_type": "stream",
     "text": [
      "Thread is alive before start: False\n",
      "Thread is alive after start: True\n",
      "Thread is alive after join: False\n"
     ]
    }
   ],
   "source": [
    "import threading\n",
    "import time\n",
    "\n",
    "def example_thread():\n",
    "    time.sleep(2)\n",
    "\n",
    "# Create a Thread object\n",
    "thread = threading.Thread(target=example_thread)\n",
    "\n",
    "# Check if the thread is alive before starting\n",
    "print(f\"Thread is alive before start: {thread.is_alive()}\")\n",
    "\n",
    "# Start the thread\n",
    "thread.start()\n",
    "\n",
    "# Check if the thread is alive after starting\n",
    "print(f\"Thread is alive after start: {thread.is_alive()}\")\n",
    "\n",
    "# Wait for the thread to finish\n",
    "thread.join()\n",
    "\n",
    "# Check if the thread is alive after finishing\n",
    "print(f\"Thread is alive after join: {thread.is_alive()}\")\n"
   ]
  },
  {
   "cell_type": "markdown",
   "id": "35883ec7-d032-486c-a5af-56b4944345d3",
   "metadata": {},
   "source": [
    "Explanation: This code creates a thread and prints its alive status before starting, after starting, and after joining. The is_alive() method provides insight into the thread's state at different points in time."
   ]
  },
  {
   "cell_type": "markdown",
   "id": "59e61845-2dad-41e6-91b3-ab571a2d60a5",
   "metadata": {},
   "source": [
    "##### Summary\n",
    "(i)run(): Defines the thread's activity; typically overridden in a subclass.\n",
    "\n",
    "(ii)start(): Begins the thread's activity, invoking the run() method in a separate thread.\n",
    "\n",
    "(iii)join(): Blocks the calling thread until the thread terminates, ensuring synchronization.\n",
    "\n",
    "(iv)isAlive() / is_alive(): Returns whether the thread is currently active."
   ]
  },
  {
   "cell_type": "markdown",
   "id": "e60e7ab9-73c9-409d-a3ae-1ae047436cb0",
   "metadata": {},
   "source": [
    "### Q4. Write a python program to create two threads. Thread one must print the list of squares and thread two must print the list of cubes\n",
    "### Ans:-\n"
   ]
  },
  {
   "cell_type": "code",
   "execution_count": 9,
   "id": "00b33ee9-19c6-4e0b-821f-3a8e8d0594ac",
   "metadata": {},
   "outputs": [
    {
     "name": "stdout",
     "output_type": "stream",
     "text": [
      "Square of 1: 1\n",
      "Square of 2: 4\n",
      "Square of 3: 9\n",
      "Square of 4: 16\n",
      "Square of 5: 25\n",
      "Cube of 1: 1\n",
      "Cube of 2: 8\n",
      "Cube of 3: 27\n",
      "Cube of 4: 64\n",
      "Cube of 5: 125\n",
      "Both threads have finished execution.\n"
     ]
    }
   ],
   "source": [
    "import threading\n",
    "\n",
    "def print_squares(numbers):\n",
    "    for number in numbers:\n",
    "        print(f\"Square of {number}: {number ** 2}\")\n",
    "\n",
    "def print_cubes(numbers):\n",
    "    for number in numbers:\n",
    "        print(f\"Cube of {number}: {number ** 3}\")\n",
    "\n",
    "# List of numbers\n",
    "numbers = [1, 2, 3, 4, 5]\n",
    "\n",
    "# Create threads\n",
    "thread1 = threading.Thread(target=print_squares, args=(numbers,))\n",
    "thread2 = threading.Thread(target=print_cubes, args=(numbers,))\n",
    "\n",
    "# Start threads\n",
    "thread1.start()\n",
    "thread2.start()\n",
    "\n",
    "# Wait for threads to complete\n",
    "thread1.join()\n",
    "thread2.join()\n",
    "\n",
    "print(\"Both threads have finished execution.\")\n"
   ]
  },
  {
   "cell_type": "markdown",
   "id": "8c70c092-f39e-4ec8-8725-53093980231a",
   "metadata": {},
   "source": [
    "### Q5. State advantages and disadvantages of multithreading.\n",
    "### Ans:-\n",
    "#### Advantages:-\n",
    "\n",
    " (i)Improved responsiveness.\n",
    " \n",
    " (ii)Concurrent execution.\n",
    " \n",
    " (iii)Efficient resource sharing.\n",
    " \n",
    " (iv)Lower overhead compared to processes.\n",
    " \n",
    " (v)Better utilization of multi-core processors.\n",
    "\n",
    "#### Disadvantages:-\n",
    "\n",
    "(i)Increased complexity in development and debugging.\n",
    "\n",
    "(ii)Context switching overhead.\n",
    "\n",
    "(iii)Resource contention.\n",
    "\n",
    "(iv)Limitations due to the Global Interpreter Lock (GIL) in Python.\n",
    "\n",
    "(v)Potential for subtle and hard-to-find bugs.\n"
   ]
  },
  {
   "cell_type": "markdown",
   "id": "d8e30a8e-ec36-4886-b87b-615a10e1d331",
   "metadata": {},
   "source": [
    "### Q6. Explain deadlocks and race conditions.\n",
    "### Ans:-\n",
    "#### Deadlocks\n",
    "\n",
    "Definition: A deadlock is a situation in concurrent programming where two or more threads are unable to proceed because each is waiting for the other to release a resource. This results in a standstill where none of the threads can proceed.\n",
    "\n",
    "#### Conditions for Deadlock (Coffman Conditions):\n",
    "\n",
    "(i)Mutual Exclusion: At least one resource must be held in a non-shareable mode; only one thread can use the resource at any given time.\n",
    "\n",
    "(ii)Hold and Wait: A thread holding at least one resource is waiting to acquire additional resources held by other threads.\n",
    "\n",
    "(iii)No Preemption: Resources cannot be forcibly taken from threads holding them; they must be released voluntarily.\n",
    "\n",
    "(iv)Circular Wait: There exists a set of threads such that each thread is waiting for a resource held by the next thread in the set, forming a circular chain."
   ]
  },
  {
   "cell_type": "code",
   "execution_count": null,
   "id": "4b879c0c-5c10-440e-9597-63461a92a4be",
   "metadata": {},
   "outputs": [
    {
     "name": "stdout",
     "output_type": "stream",
     "text": [
      "Thread 1 acquired lock 1\n",
      "Thread 2 acquired lock 2\n"
     ]
    }
   ],
   "source": [
    "import threading\n",
    "\n",
    "# Two locks\n",
    "lock1 = threading.Lock()\n",
    "lock2 = threading.Lock()\n",
    "\n",
    "def thread1_routine():\n",
    "    lock1.acquire()\n",
    "    print(\"Thread 1 acquired lock 1\")\n",
    "    \n",
    "    # Simulate some work\n",
    "    threading.Event().wait(1)\n",
    "    \n",
    "    lock2.acquire()\n",
    "    print(\"Thread 1 acquired lock 2\")\n",
    "    \n",
    "    lock2.release()\n",
    "    lock1.release()\n",
    "\n",
    "def thread2_routine():\n",
    "    lock2.acquire()\n",
    "    print(\"Thread 2 acquired lock 2\")\n",
    "    \n",
    "    # Simulate some work\n",
    "    threading.Event().wait(1)\n",
    "    \n",
    "    lock1.acquire()\n",
    "    print(\"Thread 2 acquired lock 1\")\n",
    "    \n",
    "    lock1.release()\n",
    "    lock2.release()\n",
    "\n",
    "thread1 = threading.Thread(target=thread1_routine)\n",
    "thread2 = threading.Thread(target=thread2_routine)\n",
    "\n",
    "thread1.start()\n",
    "thread2.start()\n",
    "\n",
    "thread1.join()\n",
    "thread2.join()\n"
   ]
  },
  {
   "cell_type": "markdown",
   "id": "c826ffc7-e6e0-4de3-82e9-46d26ec2c399",
   "metadata": {},
   "source": [
    "Explanation:- In this example, thread1 acquires lock1 and waits for lock2, while thread2 acquires lock2 and waits for lock1, causing a deadlock."
   ]
  },
  {
   "cell_type": "markdown",
   "id": "7d9e08b5-3df3-42d9-a1e0-e41e27e831af",
   "metadata": {},
   "source": [
    "#### Race Conditions :-\n",
    "Definition: A race condition occurs when two or more threads access shared data and try to change it at the same time. The outcome depends on the non-deterministic order in which the threads execute, leading to unpredictable and incorrect behavior."
   ]
  },
  {
   "cell_type": "code",
   "execution_count": 1,
   "id": "3ab29496-eddf-4c8a-b48c-c296b1f269f5",
   "metadata": {},
   "outputs": [
    {
     "name": "stdout",
     "output_type": "stream",
     "text": [
      "Final counter value: 200000\n"
     ]
    }
   ],
   "source": [
    "import threading\n",
    "\n",
    "# Shared resource\n",
    "counter = 0\n",
    "\n",
    "def increment():\n",
    "    global counter\n",
    "    for _ in range(100000):\n",
    "        counter += 1\n",
    "\n",
    "# Create threads\n",
    "thread1 = threading.Thread(target=increment)\n",
    "thread2 = threading.Thread(target=increment)\n",
    "\n",
    "# Start threads\n",
    "thread1.start()\n",
    "thread2.start()\n",
    "\n",
    "# Wait for threads to complete\n",
    "thread1.join()\n",
    "thread2.join()\n",
    "\n",
    "print(f\"Final counter value: {counter}\")\n"
   ]
  },
  {
   "cell_type": "markdown",
   "id": "eb487cb7-3417-46c5-8808-120a2defc17d",
   "metadata": {},
   "source": [
    "Explanation: In this example, counter is a shared resource accessed and modified by both threads. Since the increment operation is not atomic, the threads can interleave in ways that cause some increments to be lost, leading to a final counter value that is less than expected."
   ]
  },
  {
   "cell_type": "markdown",
   "id": "35c37890-1c78-4782-8cda-0a5b19632d78",
   "metadata": {},
   "source": [
    "#### Key Differences :-\n",
    "(i)Deadlocks: Occur when threads are waiting for each other to release resources, causing a standstill. It is a state of persistent blocking.\n",
    "\n",
    "(ii)Race Conditions: Occur when the outcome of operations on shared resources depends on the timing of thread execution. It is a state of unpredictable behavior."
   ]
  },
  {
   "cell_type": "code",
   "execution_count": null,
   "id": "cdd1d1c0-e626-46f5-9413-0ec28a82c8fa",
   "metadata": {},
   "outputs": [],
   "source": []
  },
  {
   "cell_type": "code",
   "execution_count": null,
   "id": "38932dc4-8815-41f6-b018-5020c365bec5",
   "metadata": {},
   "outputs": [],
   "source": []
  },
  {
   "cell_type": "code",
   "execution_count": null,
   "id": "d5bc60d9-2e55-40c2-9f3a-2c39fee6d953",
   "metadata": {},
   "outputs": [],
   "source": []
  },
  {
   "cell_type": "code",
   "execution_count": null,
   "id": "dcf17d64-3443-41d1-ac3e-08a661f937af",
   "metadata": {},
   "outputs": [],
   "source": []
  },
  {
   "cell_type": "code",
   "execution_count": null,
   "id": "b302357e-4284-4ae7-b10f-a79c213bec04",
   "metadata": {},
   "outputs": [],
   "source": []
  },
  {
   "cell_type": "code",
   "execution_count": null,
   "id": "a3ca02f6-a9ce-4b3d-a797-883d37438136",
   "metadata": {},
   "outputs": [],
   "source": []
  },
  {
   "cell_type": "code",
   "execution_count": null,
   "id": "30b56941-f845-4a21-9e3e-0edd78972e66",
   "metadata": {},
   "outputs": [],
   "source": []
  }
 ],
 "metadata": {
  "kernelspec": {
   "display_name": "Python 3 (ipykernel)",
   "language": "python",
   "name": "python3"
  },
  "language_info": {
   "codemirror_mode": {
    "name": "ipython",
    "version": 3
   },
   "file_extension": ".py",
   "mimetype": "text/x-python",
   "name": "python",
   "nbconvert_exporter": "python",
   "pygments_lexer": "ipython3",
   "version": "3.10.8"
  }
 },
 "nbformat": 4,
 "nbformat_minor": 5
}
