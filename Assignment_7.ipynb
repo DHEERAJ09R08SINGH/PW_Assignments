{
 "cells": [
  {
   "cell_type": "markdown",
   "id": "650e5f58-3586-44cf-b8ff-6d3ee8b0190d",
   "metadata": {},
   "source": [
    "# Assignment_7 Questions & Answers :-"
   ]
  },
  {
   "cell_type": "markdown",
   "id": "2e229734-fe00-49d0-af27-2dffda29490c",
   "metadata": {},
   "source": [
    "### Q1. What is Abstraction in OOps? Explain with an example.\n",
    "### Ans:-\n",
    "### What is Abstraction in OOP?\n",
    "Abstraction in Object-Oriented Programming (OOP) is the concept of hiding the complex implementation details of a system and exposing only the necessary and relevant parts to the user. It allows programmers to focus on what an object does instead of how it does it. Abstraction helps in reducing complexity, improving code readability, and enhancing maintainability by providing a clear separation between an object's interface and its implementation."
   ]
  },
  {
   "cell_type": "code",
   "execution_count": 1,
   "id": "87b46327-d4c9-4f92-b8bf-53642f9bcf83",
   "metadata": {},
   "outputs": [
    {
     "name": "stdout",
     "output_type": "stream",
     "text": [
      "Deposited 500, new balance is 1500\n",
      "Withdrew 200, new balance is 1300\n",
      "Savings account balance: 1300\n",
      "Deposited 1000, new balance is 3000\n",
      "Withdrew 500, new balance is 2500\n",
      "Current account balance: 2500\n"
     ]
    }
   ],
   "source": [
    "# Example of Abstraction :-\n",
    "# Consider an example of a simple banking system :-\n",
    "from abc import ABC, abstractmethod\n",
    "\n",
    "class Account(ABC):\n",
    "    @abstractmethod\n",
    "    def deposit(self, amount):\n",
    "        pass\n",
    "    \n",
    "    @abstractmethod\n",
    "    def withdraw(self, amount):\n",
    "        pass\n",
    "    \n",
    "    @abstractmethod\n",
    "    def get_balance(self):\n",
    "        pass\n",
    "\n",
    "class SavingsAccount(Account):\n",
    "    def __init__(self, initial_balance):\n",
    "        self.balance = initial_balance\n",
    "        \n",
    "    def deposit(self, amount):\n",
    "        self.balance += amount\n",
    "        print(f\"Deposited {amount}, new balance is {self.balance}\")\n",
    "        \n",
    "    def withdraw(self, amount):\n",
    "        if amount <= self.balance:\n",
    "            self.balance -= amount\n",
    "            print(f\"Withdrew {amount}, new balance is {self.balance}\")\n",
    "        else:\n",
    "            print(\"Insufficient funds\")\n",
    "    \n",
    "    def get_balance(self):\n",
    "        return self.balance\n",
    "\n",
    "class CurrentAccount(Account):\n",
    "    def __init__(self, initial_balance):\n",
    "        self.balance = initial_balance\n",
    "        \n",
    "    def deposit(self, amount):\n",
    "        self.balance += amount\n",
    "        print(f\"Deposited {amount}, new balance is {self.balance}\")\n",
    "        \n",
    "    def withdraw(self, amount):\n",
    "        if amount <= self.balance:\n",
    "            self.balance -= amount\n",
    "            print(f\"Withdrew {amount}, new balance is {self.balance}\")\n",
    "        else:\n",
    "            print(\"Insufficient funds\")\n",
    "    \n",
    "    def get_balance(self):\n",
    "        return self.balance\n",
    "\n",
    "# Example usage\n",
    "savings = SavingsAccount(1000)\n",
    "savings.deposit(500)\n",
    "savings.withdraw(200)\n",
    "print(f\"Savings account balance: {savings.get_balance()}\")\n",
    "\n",
    "current = CurrentAccount(2000)\n",
    "current.deposit(1000)\n",
    "current.withdraw(500)\n",
    "print(f\"Current account balance: {current.get_balance()}\")\n"
   ]
  },
  {
   "cell_type": "markdown",
   "id": "19b5fb57-5f25-4e88-971e-3765836d7b9e",
   "metadata": {},
   "source": [
    "In this example, the users of the SavingsAccount and CurrentAccount classes do not need to know the details of how deposits and withdrawals are managed internally; they just use the methods provided by the abstract Account class.\n",
    "\n",
    "\n",
    "\n",
    "\n",
    "\n"
   ]
  },
  {
   "cell_type": "markdown",
   "id": "aaab15bd-aedd-4627-817c-62315fd71b4f",
   "metadata": {},
   "source": [
    "### Q2. Differentiate between Abstraction and Encapsulation. Explain with an example.\n",
    "### Ans:-\n",
    "### Differentiating Between Abstraction and Encapsulation :- \n",
    "#### Abstraction and Encapsulation are two fundamental concepts in Object-Oriented Programming (OOP), often used interchangeably but they serve different purposes.\n",
    "### Abstraction :-\n",
    "    (i) Definition: Abstraction is the concept of hiding the complex implementation details and exposing only the essential features of an object or a system.\n",
    "    (ii) Purpose: Simplifies the complexity by showing only the relevant attributes and behaviors.\n",
    "    (iii) How it's achieved: Through abstract classes and interfaces.\n",
    "### Encapsulation :-\n",
    "    (i) Definition: Encapsulation is the concept of bundling the data (attributes) and the methods (functions) that operate on the data into a single unit called a class. It also involves restricting access to some of the object's components, which means that the internal representation of an object is hidden from the outside.\n",
    "    (ii)Purpose: Protects the data from unauthorized access and modification, promoting data integrity.\n",
    "    (iii)How it's achieved: Through access modifiers like private, protected, and public.\n"
   ]
  },
  {
   "cell_type": "code",
   "execution_count": 7,
   "id": "d0c6fa4f-ba56-4617-a874-8d6587c0c796",
   "metadata": {},
   "outputs": [],
   "source": [
    "# Consider a real-world example of a bank account.\n",
    "# Abstraction Example :-\n",
    "# Let's create an abstract representation of a bank account with common operations like deposit, withdraw, and check balance.\n",
    "from abc import ABC, abstractmethod\n",
    "\n",
    "class Account(ABC):\n",
    "    @abstractmethod\n",
    "    def deposit(self, amount):\n",
    "        pass\n",
    "    \n",
    "    @abstractmethod\n",
    "    def withdraw(self, amount):\n",
    "        pass\n",
    "    \n",
    "    @abstractmethod\n",
    "    def get_balance(self):\n",
    "        pass\n",
    "\n",
    "class SavingsAccount(Account):\n",
    "    def __init__(self, initial_balance):\n",
    "        self.balance = initial_balance\n",
    "        \n",
    "    def deposit(self, amount):\n",
    "        self.balance += amount\n",
    "        print(f\"Deposited {amount}, new balance is {self.balance}\")\n",
    "        \n",
    "    def withdraw(self, amount):\n",
    "        if amount <= self.balance:\n",
    "            self.balance -= amount\n",
    "            print(f\"Withdrew {amount}, new balance is {self.balance}\")\n",
    "        else:\n",
    "            print(\"Insufficient funds\")\n",
    "    \n",
    "    def get_balance(self):\n",
    "        return self.balance\n"
   ]
  },
  {
   "cell_type": "code",
   "execution_count": 8,
   "id": "1e348a52-06f8-48bb-b0c9-38943e157f3a",
   "metadata": {},
   "outputs": [
    {
     "name": "stdout",
     "output_type": "stream",
     "text": [
      "Deposited 500, new balance is 1500\n",
      "Withdrew 200, new balance is 1300\n",
      "Account balance: 1300\n"
     ]
    }
   ],
   "source": [
    "# Encapsulation Example :-\n",
    "# Now let's look at how we can encapsulate the data and methods within the SavingsAccount class.\n",
    "class SavingsAccount:\n",
    "    def __init__(self, initial_balance):\n",
    "        self.__balance = initial_balance  # Private attribute\n",
    "        \n",
    "    def deposit(self, amount):\n",
    "        if amount > 0:\n",
    "            self.__balance += amount\n",
    "            print(f\"Deposited {amount}, new balance is {self.__balance}\")\n",
    "        else:\n",
    "            print(\"Deposit amount must be positive\")\n",
    "        \n",
    "    def withdraw(self, amount):\n",
    "        if amount <= self.__balance:\n",
    "            self.__balance -= amount\n",
    "            print(f\"Withdrew {amount}, new balance is {self.__balance}\")\n",
    "        else:\n",
    "            print(\"Insufficient funds\")\n",
    "    \n",
    "    def get_balance(self):\n",
    "        return self.__balance\n",
    "\n",
    "# Example usage\n",
    "account = SavingsAccount(1000)\n",
    "account.deposit(500)\n",
    "account.withdraw(200)\n",
    "print(f\"Account balance: {account.get_balance()}\")\n"
   ]
  },
  {
   "cell_type": "markdown",
   "id": "501d958a-1be6-41e3-b78b-9be377d4f5dc",
   "metadata": {},
   "source": [
    "### Q3. What is abc module in python? Why is it used?\n",
    "### Ans :-\n",
    "### What is the abc Module in Python?\n",
    "#### The abc module in Python stands for Abstract Base Classes. It is a module that provides the infrastructure for defining abstract base classes (ABCs). ABCs are used to define a set of methods and properties that must be created within any child classes built from the abstract base class. A class that contains one or more abstract methods is called an abstract class, and it cannot be instantiated.\n",
    "### Why is the abc Module Used?\n",
    "#### The abc module is used for the following purposes:-\n",
    "#### (i)Defining Interfaces: It allows the creation of abstract base classes that can define interfaces for other classes. This ensures that certain methods are implemented in the subclasses, promoting a consistent interface.\n",
    "#### (ii)Enforcing Method Implementation: By defining abstract methods using the @abstractmethod decorator, the abc module ensures that derived classes implement these methods. This prevents the creation of incomplete implementations and helps in maintaining a consistent design.\n",
    "#### (iii)Promoting Code Reusability: Abstract base classes can provide some default implementations, which can be reused by subclasses, reducing code duplication.\n",
    "#### (iv)Enhancing Code Readability and Maintainability: By explicitly defining the intended structure and behavior of subclasses, ABCs make the code more readable and maintainable.\n",
    "\n"
   ]
  },
  {
   "cell_type": "markdown",
   "id": "3544456f-951f-4a99-a4b0-090e6276529e",
   "metadata": {},
   "source": [
    "### Q4. How can we achieve data abstraction?\n",
    "### Ans:-\n",
    "#### Data abstraction in object-oriented programming is the concept of providing only essential information to the outside world while hiding the background details or implementation. This is achieved by defining clear interfaces and using encapsulation to hide internal state and complexity. \n",
    "#### Here are the main techniques to achieve data abstraction in Python:-\n",
    "### 1. Abstract Classes and Methods\n",
    "\n",
    "Using abstract classes and methods, you can define an interface that must be implemented by derived classes, ensuring a consistent interface while hiding the implementation details.\n",
    "### 2. Encapsulation Using Access Modifiers\n",
    "\n",
    "Encapsulation is a technique where the internal state of an object is hidden from the outside using private attributes and exposing only necessary parts through public methods.\n",
    "### 3. Properties for Controlled Access\n",
    "\n",
    "Python's property decorator allows controlled access to instance variables, providing a way to hide implementation details while exposing a clean interface.\n"
   ]
  },
  {
   "cell_type": "code",
   "execution_count": 9,
   "id": "25cb7036-5943-42a1-addd-2aa3d9d609b8",
   "metadata": {},
   "outputs": [
    {
     "name": "stdout",
     "output_type": "stream",
     "text": [
      "Area: 200\n",
      "Perimeter: 60\n",
      "Area: 706.85775\n",
      "Perimeter: 94.2477\n"
     ]
    }
   ],
   "source": [
    "# 1. \n",
    "from abc import ABC, abstractmethod\n",
    "\n",
    "class Shape(ABC):\n",
    "    @abstractmethod\n",
    "    def area(self):\n",
    "        pass\n",
    "\n",
    "    @abstractmethod\n",
    "    def perimeter(self):\n",
    "        pass\n",
    "\n",
    "class Rectangle(Shape):\n",
    "    def __init__(self, width, height):\n",
    "        self.width = width\n",
    "        self.height = height\n",
    "        \n",
    "    def area(self):\n",
    "        return self.width * self.height\n",
    "\n",
    "    def perimeter(self):\n",
    "        return 2 * (self.width + self.height)\n",
    "\n",
    "class Circle(Shape):\n",
    "    def __init__(self, radius):\n",
    "        self.radius = radius\n",
    "        \n",
    "    def area(self):\n",
    "        return 3.14159 * self.radius * self.radius\n",
    "\n",
    "    def perimeter(self):\n",
    "        return 2 * 3.14159 * self.radius\n",
    "\n",
    "# Usage\n",
    "shapes = [Rectangle(10, 20), Circle(15)]\n",
    "for shape in shapes:\n",
    "    print(f\"Area: {shape.area()}\")\n",
    "    print(f\"Perimeter: {shape.perimeter()}\")\n"
   ]
  },
  {
   "cell_type": "code",
   "execution_count": 10,
   "id": "18a813f0-2963-4759-873f-155dac458508",
   "metadata": {},
   "outputs": [
    {
     "name": "stdout",
     "output_type": "stream",
     "text": [
      "Balance: 1500\n",
      "Balance: 1200\n"
     ]
    }
   ],
   "source": [
    "# 2.\n",
    "class BankAccount:\n",
    "    def __init__(self, initial_balance):\n",
    "        self.__balance = initial_balance  # Private attribute\n",
    "\n",
    "    def deposit(self, amount):\n",
    "        if amount > 0:\n",
    "            self.__balance += amount\n",
    "        else:\n",
    "            print(\"Deposit amount must be positive\")\n",
    "\n",
    "    def withdraw(self, amount):\n",
    "        if 0 < amount <= self.__balance:\n",
    "            self.__balance -= amount\n",
    "        else:\n",
    "            print(\"Insufficient funds or invalid amount\")\n",
    "\n",
    "    def get_balance(self):\n",
    "        return self.__balance\n",
    "\n",
    "# Usage\n",
    "account = BankAccount(1000)\n",
    "account.deposit(500)\n",
    "print(f\"Balance: {account.get_balance()}\")  # Output: Balance: 1500\n",
    "account.withdraw(300)\n",
    "print(f\"Balance: {account.get_balance()}\")  # Output: Balance: 1200\n"
   ]
  },
  {
   "cell_type": "code",
   "execution_count": 11,
   "id": "e7941e73-1f9d-4405-a2dd-6d2df9eb8436",
   "metadata": {},
   "outputs": [
    {
     "name": "stdout",
     "output_type": "stream",
     "text": [
      "Radius: 5\n",
      "Area: 78.53975\n",
      "New Radius: 10\n",
      "New Area: 314.159\n"
     ]
    }
   ],
   "source": [
    "# 3.\n",
    "class Circle:\n",
    "    def __init__(self, radius):\n",
    "        self.__radius = radius\n",
    "\n",
    "    @property\n",
    "    def radius(self):\n",
    "        return self.__radius\n",
    "\n",
    "    @radius.setter\n",
    "    def radius(self, value):\n",
    "        if value > 0:\n",
    "            self.__radius = value\n",
    "        else:\n",
    "            print(\"Radius must be positive\")\n",
    "\n",
    "    @property\n",
    "    def area(self):\n",
    "        return 3.14159 * (self.__radius ** 2)\n",
    "\n",
    "# Usage\n",
    "c = Circle(5)\n",
    "print(f\"Radius: {c.radius}\")\n",
    "print(f\"Area: {c.area}\")\n",
    "\n",
    "c.radius = 10\n",
    "print(f\"New Radius: {c.radius}\")\n",
    "print(f\"New Area: {c.area}\")\n"
   ]
  },
  {
   "cell_type": "markdown",
   "id": "62a009bd-1dbc-4ca0-a606-95c58a6a96bb",
   "metadata": {},
   "source": [
    "### Q5. Can we create an instance of an abstract class? Explain your answer.\n",
    "### Ans:-\n",
    "### Explanation :-\n",
    "#### Abstract classes are meant to serve as blueprints for other classes. They are used to define a common interface and to enforce the implementation of certain methods in derived classes. Abstract classes themselves cannot be instantiated because they may contain abstract methods that do not have any implementation. Attempting to instantiate an abstract class will result in a TypeError.\n"
   ]
  },
  {
   "cell_type": "code",
   "execution_count": 14,
   "id": "7d88bf2d-9a75-408b-8660-0f6f5fb290a1",
   "metadata": {},
   "outputs": [
    {
     "ename": "TypeError",
     "evalue": "Can't instantiate abstract class Shape with abstract methods area, perimeter",
     "output_type": "error",
     "traceback": [
      "\u001b[0;31m---------------------------------------------------------------------------\u001b[0m",
      "\u001b[0;31mTypeError\u001b[0m                                 Traceback (most recent call last)",
      "Cell \u001b[0;32mIn[14], line 14\u001b[0m\n\u001b[1;32m     11\u001b[0m         \u001b[38;5;28;01mpass\u001b[39;00m\n\u001b[1;32m     13\u001b[0m \u001b[38;5;66;03m# Attempting to create an instance of Shape will raise an error\u001b[39;00m\n\u001b[0;32m---> 14\u001b[0m shape \u001b[38;5;241m=\u001b[39m \u001b[43mShape\u001b[49m\u001b[43m(\u001b[49m\u001b[43m)\u001b[49m  \u001b[38;5;66;03m# This will raise TypeError: Can't instantiate abstract class Shape with abstract methods area, perimeter\u001b[39;00m\n",
      "\u001b[0;31mTypeError\u001b[0m: Can't instantiate abstract class Shape with abstract methods area, perimeter"
     ]
    }
   ],
   "source": [
    "# Consider an abstract class Shape that defines abstract methods area and perimeter:-\n",
    "from abc import ABC, abstractmethod\n",
    "\n",
    "class Shape(ABC):\n",
    "    @abstractmethod\n",
    "    def area(self):\n",
    "        pass\n",
    "\n",
    "    @abstractmethod\n",
    "    def perimeter(self):\n",
    "        pass\n",
    "\n",
    "# Attempting to create an instance of Shape will raise an error\n",
    "shape = Shape()  # This will raise TypeError: Can't instantiate abstract class Shape with abstract methods area, perimeter\n"
   ]
  },
  {
   "cell_type": "markdown",
   "id": "637a96c4-da13-4e3d-ac85-1e7b1d10cb0d",
   "metadata": {},
   "source": [
    "### Why Can't We Instantiate Abstract Classes?\n",
    "#### (i)Incomplete Implementation:\n",
    "\n",
    "Abstract classes can contain abstract methods, which are methods declared in the abstract class but not implemented. Since these methods lack implementation, creating an instance of the abstract class would result in an object with incomplete functionality.\n",
    "\n",
    "#### (ii)Design Intent:\n",
    "\n",
    "Abstract classes are designed to be inherited by other classes that provide concrete implementations of the abstract methods. They are intended to be used as a base for other classes, ensuring that certain methods are implemented in subclasses.\n",
    "\n",
    "### Correct Usage of Abstract Classes :-\n",
    "Abstract classes should be inherited by subclasses that implement the abstract methods. Here’s how to properly use abstract classes:"
   ]
  },
  {
   "cell_type": "code",
   "execution_count": 15,
   "id": "5c09ec72-2f96-49af-a46b-f62ac9793d16",
   "metadata": {},
   "outputs": [
    {
     "name": "stdout",
     "output_type": "stream",
     "text": [
      "Rectangle Area: 200\n",
      "Rectangle Perimeter: 60\n",
      "Circle Area: 706.85775\n",
      "Circle Perimeter: 94.2477\n"
     ]
    }
   ],
   "source": [
    "from abc import ABC, abstractmethod\n",
    "\n",
    "class Shape(ABC):\n",
    "    @abstractmethod\n",
    "    def area(self):\n",
    "        pass\n",
    "\n",
    "    @abstractmethod\n",
    "    def perimeter(self):\n",
    "        pass\n",
    "\n",
    "class Rectangle(Shape):\n",
    "    def __init__(self, width, height):\n",
    "        self.width = width\n",
    "        self.height = height\n",
    "\n",
    "    def area(self):\n",
    "        return self.width * self.height\n",
    "\n",
    "    def perimeter(self):\n",
    "        return 2 * (self.width + self.height)\n",
    "\n",
    "class Circle(Shape):\n",
    "    def __init__(self, radius):\n",
    "        self.radius = radius\n",
    "\n",
    "    def area(self):\n",
    "        return 3.14159 * self.radius * self.radius\n",
    "\n",
    "    def perimeter(self):\n",
    "        return 2 * 3.14159 * self.radius\n",
    "\n",
    "# Creating instances of concrete subclasses\n",
    "rect = Rectangle(10, 20)\n",
    "print(f\"Rectangle Area: {rect.area()}\")        # Output: Rectangle Area: 200\n",
    "print(f\"Rectangle Perimeter: {rect.perimeter()}\")  # Output: Rectangle Perimeter: 60\n",
    "\n",
    "circle = Circle(15)\n",
    "print(f\"Circle Area: {circle.area()}\")        # Output: Circle Area: 706.85775\n",
    "print(f\"Circle Perimeter: {circle.perimeter()}\")  # Output: Circle Perimeter: 94.2477\n"
   ]
  },
  {
   "cell_type": "code",
   "execution_count": null,
   "id": "2f66f007-ac61-42df-bd45-bd2b14bcf0e9",
   "metadata": {},
   "outputs": [],
   "source": []
  },
  {
   "cell_type": "code",
   "execution_count": null,
   "id": "04bc04e3-28fa-4df5-a706-43ec16c131ae",
   "metadata": {},
   "outputs": [],
   "source": []
  },
  {
   "cell_type": "code",
   "execution_count": null,
   "id": "3a4c3d52-f484-46e5-a763-02803eb53863",
   "metadata": {},
   "outputs": [],
   "source": []
  },
  {
   "cell_type": "code",
   "execution_count": null,
   "id": "320960e1-d1ae-41aa-9741-776136981743",
   "metadata": {},
   "outputs": [],
   "source": []
  },
  {
   "cell_type": "code",
   "execution_count": null,
   "id": "b8385bef-849b-4473-b739-cb4872f48ee0",
   "metadata": {},
   "outputs": [],
   "source": []
  },
  {
   "cell_type": "code",
   "execution_count": null,
   "id": "67e69f76-a6f6-41d5-a533-8361caa37789",
   "metadata": {},
   "outputs": [],
   "source": []
  },
  {
   "cell_type": "code",
   "execution_count": null,
   "id": "6850648c-482b-4b7e-ad41-e4893dc2baaa",
   "metadata": {},
   "outputs": [],
   "source": []
  },
  {
   "cell_type": "code",
   "execution_count": null,
   "id": "99bea7c1-048e-40b4-82fe-b77c59423b88",
   "metadata": {},
   "outputs": [],
   "source": []
  },
  {
   "cell_type": "code",
   "execution_count": null,
   "id": "42f6d61f-8b17-490e-b1c2-c9cc80fb7780",
   "metadata": {},
   "outputs": [],
   "source": []
  },
  {
   "cell_type": "code",
   "execution_count": null,
   "id": "c27c98fe-efaf-423e-9de2-10c64f5d781a",
   "metadata": {},
   "outputs": [],
   "source": []
  },
  {
   "cell_type": "code",
   "execution_count": null,
   "id": "2d810400-bdea-4acf-b716-a798b225c6e3",
   "metadata": {},
   "outputs": [],
   "source": []
  },
  {
   "cell_type": "code",
   "execution_count": null,
   "id": "03b8f804-ee1c-435e-894e-a2d708342062",
   "metadata": {},
   "outputs": [],
   "source": []
  },
  {
   "cell_type": "code",
   "execution_count": null,
   "id": "8d1d54e4-6d6c-48af-a646-531c8dc875d5",
   "metadata": {},
   "outputs": [],
   "source": []
  },
  {
   "cell_type": "code",
   "execution_count": null,
   "id": "07ebc7f5-68c9-4bbf-a32d-ac395292767d",
   "metadata": {},
   "outputs": [],
   "source": []
  },
  {
   "cell_type": "code",
   "execution_count": null,
   "id": "c465d7b6-cea3-439f-a2cf-c0236fd65f74",
   "metadata": {},
   "outputs": [],
   "source": []
  },
  {
   "cell_type": "code",
   "execution_count": null,
   "id": "fc7e1b92-d504-49c6-bb58-09dcfc0d6f14",
   "metadata": {},
   "outputs": [],
   "source": []
  },
  {
   "cell_type": "code",
   "execution_count": null,
   "id": "62ab91a3-9cbb-4d12-8184-2a6adf84f828",
   "metadata": {},
   "outputs": [],
   "source": []
  },
  {
   "cell_type": "code",
   "execution_count": null,
   "id": "098f809c-46d1-473f-b49c-9a228e75e460",
   "metadata": {},
   "outputs": [],
   "source": []
  },
  {
   "cell_type": "code",
   "execution_count": null,
   "id": "222343b6-b2dd-46cf-af89-31b7b630e61c",
   "metadata": {},
   "outputs": [],
   "source": []
  }
 ],
 "metadata": {
  "kernelspec": {
   "display_name": "Python 3 (ipykernel)",
   "language": "python",
   "name": "python3"
  },
  "language_info": {
   "codemirror_mode": {
    "name": "ipython",
    "version": 3
   },
   "file_extension": ".py",
   "mimetype": "text/x-python",
   "name": "python",
   "nbconvert_exporter": "python",
   "pygments_lexer": "ipython3",
   "version": "3.10.8"
  }
 },
 "nbformat": 4,
 "nbformat_minor": 5
}
