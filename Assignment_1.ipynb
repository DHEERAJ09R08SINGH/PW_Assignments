{
 "cells": [
  {
   "cell_type": "markdown",
   "id": "e2d3054a-9a95-4f73-b5ab-5bd92da908dc",
   "metadata": {},
   "source": [
    "# Assignment_1 Questions & Answers :"
   ]
  },
  {
   "cell_type": "raw",
   "id": "c9490f12-d7eb-48eb-9c76-dc6ce12059b6",
   "metadata": {},
   "source": [
    "Q1. Create one variable containing following type of data:-\n",
    "(i) string\n",
    "(ii) list\n",
    "(iii) float\n",
    "(iv) tuple\n",
    "Ans : \n",
    "(i) string :-\n",
    "    a = \"dheeraj\"\n",
    "    \n",
    "(ii) list :-\n",
    "    b=[1,2,3.5,\"dheeraj\",True]\n",
    "        \n",
    "(iii) float :-\n",
    "    c=89.75\n",
    "        \n",
    "(iv) tuple :-\n",
    "    d=(1,2,3.5,\"dheeraj\",True)  \n",
    "      \n",
    "        "
   ]
  },
  {
   "cell_type": "raw",
   "id": "368cc318-75d4-45bb-b1b9-cd75f3f0cd1f",
   "metadata": {},
   "source": [
    "Q2. Given are some following variables containing data:-\n",
    " (i) var1 = ‘ ‘\n",
    " (ii) var2 = ‘[DS ,  ML , Python]’\n",
    " (iii) var3 = [ ‘DS’ , ’ML’ , ‘Python’ ]\n",
    " (iv) var4 = 1.\n",
    " What will be the data type of the above given variable ?.\n",
    " Ans : \n",
    " (i) str\n",
    " (ii) Syntax Error\n",
    " (iii) list\n",
    " (iv) int\n",
    "  "
   ]
  },
  {
   "cell_type": "raw",
   "id": "d8c3be1f-1614-4ab0-b57a-1227bf117c35",
   "metadata": {},
   "source": [
    "Q3. Explain the use of the following operators using an example:\n",
    "(i) /\n",
    "(ii) %\n",
    "(iii) //\n",
    "(iv) **\n",
    "Ans :\n",
    "(i) / : Division\n",
    "    eg:- 5/4 = 1.25\n",
    "\n",
    "(ii) % : Modulo\n",
    "    eg:- 5%4 = 1\n",
    "    \n",
    "(iii) // : Floor Division\n",
    "    eg:- 5//4 = 1\n",
    "    \n",
    "(iv) ** : Power\n",
    "    eg:- 5**4 = 625\n",
    "    \n"
   ]
  },
  {
   "cell_type": "raw",
   "id": "2c7e7b78-4266-4d40-bf25-bb8040881176",
   "metadata": {},
   "source": [
    " Q4. Create a list of length 10 of your choice containing multiple types of data. Using for loop print the element and its data type.\n",
    " Ans : \n",
    "\n"
   ]
  },
  {
   "cell_type": "code",
   "execution_count": 1,
   "id": "311a3eb9-684e-4bba-94a0-7d4dd8bbf388",
   "metadata": {},
   "outputs": [
    {
     "name": "stdout",
     "output_type": "stream",
     "text": [
      "1 <class 'int'>\n",
      "2.5 <class 'float'>\n",
      "c <class 'str'>\n",
      "True <class 'bool'>\n",
      "False <class 'bool'>\n",
      "Tiger <class 'str'>\n",
      "46.5 <class 'float'>\n",
      "35 <class 'int'>\n",
      "dheeraj <class 'str'>\n",
      "(4+6j) <class 'complex'>\n"
     ]
    }
   ],
   "source": [
    "# Q4. Create a list of length 10 of your choice containing multiple types of data. Using for loop print the element and its data type.\n",
    "#Ans : \n",
    "list = [1,2.5,'c',True,False,'Tiger',46.5,35,'dheeraj', 4+6j]\n",
    "for i in list:\n",
    "    print(i,type(i))"
   ]
  },
  {
   "cell_type": "raw",
   "id": "255231c9-60e1-4b55-a3bb-148cb8cedd8e",
   "metadata": {},
   "source": [
    "Q5. Using a while loop, verify if the number A is purely divisible by number B and if so then how many\n",
    "times it can be divisible.\n",
    "\n",
    "Ans : \n",
    "=> A is purely divisible by no. B\n",
    "       A%B = 0\n",
    "    \n",
    "=> It must be divisible by B factor.\n"
   ]
  },
  {
   "cell_type": "code",
   "execution_count": 2,
   "id": "babc9469-cacc-45c7-ad15-df75a2d38298",
   "metadata": {},
   "outputs": [],
   "source": [
    "def count_divisibility(A, B):\n",
    "    if B == 0:\n",
    "        return \"Division by zero is not allowed.\"\n",
    "\n",
    "    count = 0\n",
    "    while A % B == 0:\n",
    "        A //= B\n",
    "        count += 1\n",
    "\n",
    "    return count\n"
   ]
  },
  {
   "cell_type": "code",
   "execution_count": 4,
   "id": "7abfc37c-b395-40ef-86db-db586ebf1678",
   "metadata": {},
   "outputs": [
    {
     "name": "stdin",
     "output_type": "stream",
     "text": [
      " 6\n",
      " 3\n"
     ]
    },
    {
     "name": "stdout",
     "output_type": "stream",
     "text": [
      "6 is divisible by 3 exactly 1 times.\n"
     ]
    }
   ],
   "source": [
    "#dynamic\n",
    "A=int(input())\n",
    "B=int(input())\n",
    "result = count_divisibility(A, B)\n",
    "if result == 1:\n",
    "    print(\"{} is divisible by {} exactly {} times.\".format(A,B,result))\n",
    "elif result == 0:\n",
    "    print(\"{} is not divisible by {} .\".format(A,B))\n",
    "else:\n",
    "    print(\"{} is divisible by {} exactly {} times.\".format(A,B,result))\n",
    "    "
   ]
  },
  {
   "cell_type": "raw",
   "id": "babca6d0-ba5e-4fa3-ab0b-e0befad1e58c",
   "metadata": {},
   "source": [
    "Q6. Create a list containing 25 int type data. Using for loop and if-else condition print if the element is\n",
    "divisible by 3 or not.\n",
    "\n",
    "Ans :\n",
    "\n",
    "    "
   ]
  },
  {
   "cell_type": "code",
   "execution_count": 5,
   "id": "35d114b3-7093-4449-9d36-d776706d9009",
   "metadata": {},
   "outputs": [
    {
     "name": "stdout",
     "output_type": "stream",
     "text": [
      "1 Not divisible by 3 \n",
      "2 Not divisible by 3 \n",
      "3 divisible by 3\n",
      "4 Not divisible by 3 \n",
      "5 Not divisible by 3 \n",
      "6 divisible by 3\n",
      "7 Not divisible by 3 \n",
      "8 Not divisible by 3 \n",
      "9 divisible by 3\n",
      "10 Not divisible by 3 \n",
      "11 Not divisible by 3 \n",
      "12 divisible by 3\n",
      "13 Not divisible by 3 \n",
      "14 Not divisible by 3 \n",
      "15 divisible by 3\n",
      "16 Not divisible by 3 \n",
      "17 Not divisible by 3 \n",
      "18 divisible by 3\n",
      "19 Not divisible by 3 \n",
      "20 Not divisible by 3 \n",
      "21 divisible by 3\n",
      "22 Not divisible by 3 \n",
      "23 Not divisible by 3 \n",
      "24 divisible by 3\n",
      "25 Not divisible by 3 \n"
     ]
    }
   ],
   "source": [
    "#Q6.\n",
    "list=[1,2,3,4,5,6,7,8,9,10,11,12,13,14,15,16,17,18,19,20,21,22,23,24,25]\n",
    "l1=[]\n",
    "l2=[]\n",
    "for i in list:\n",
    "    if i%3 == 0:\n",
    "        print(i,\"divisible by 3\")\n",
    "    else:\n",
    "        print(i,\"Not divisible by 3 \")\n",
    "        "
   ]
  },
  {
   "cell_type": "raw",
   "id": "3fa1b60b-9bf6-4b5f-b4fb-28e9d3a0c02d",
   "metadata": {},
   "source": [
    "Q7. What do you understand about mutable and immutable data types? Give examples for both showing\n",
    "this property.\n",
    "\n",
    "Ans : Mutable & Immutable data types :\n",
    "\n",
    "=> Mutable data types :- A mutable data type is those whose values can be changed.\n",
    "=> Immutable data types :- A immutable data type is one in which the values can not be changed or altered.\n",
    "\n"
   ]
  },
  {
   "cell_type": "code",
   "execution_count": 6,
   "id": "8e460403-4de4-4fd6-8014-1032d9645319",
   "metadata": {},
   "outputs": [
    {
     "data": {
      "text/plain": [
       "['a', 2.5, 'dheeraj', 'singh']"
      ]
     },
     "execution_count": 6,
     "metadata": {},
     "output_type": "execute_result"
    }
   ],
   "source": [
    "#Eg:-\n",
    "#(i)List is mutable data type :\n",
    "list = ['a',2.5,'dheeraj','yadav']\n",
    "list[3]='singh'\n",
    "list\n"
   ]
  },
  {
   "cell_type": "code",
   "execution_count": 7,
   "id": "c6eed921-fdf1-423f-a270-29706d65025e",
   "metadata": {},
   "outputs": [
    {
     "ename": "TypeError",
     "evalue": "'str' object does not support item assignment",
     "output_type": "error",
     "traceback": [
      "\u001b[0;31m---------------------------------------------------------------------------\u001b[0m",
      "\u001b[0;31mTypeError\u001b[0m                                 Traceback (most recent call last)",
      "Cell \u001b[0;32mIn[7], line 3\u001b[0m\n\u001b[1;32m      1\u001b[0m \u001b[38;5;66;03m#(ii)String(str) is immutable data type :\u001b[39;00m\n\u001b[1;32m      2\u001b[0m \u001b[38;5;28mstr\u001b[39m \u001b[38;5;241m=\u001b[39m \u001b[38;5;124m\"\u001b[39m\u001b[38;5;124mdheerajrsingh\u001b[39m\u001b[38;5;124m\"\u001b[39m\n\u001b[0;32m----> 3\u001b[0m \u001b[38;5;28;43mstr\u001b[39;49m\u001b[43m[\u001b[49m\u001b[38;5;241;43m8\u001b[39;49m\u001b[43m]\u001b[49m\u001b[38;5;241m=\u001b[39m\u001b[38;5;124m\"\u001b[39m\u001b[38;5;124myadav\u001b[39m\u001b[38;5;124m\"\u001b[39m\n\u001b[1;32m      4\u001b[0m \u001b[38;5;28mstr\u001b[39m\n",
      "\u001b[0;31mTypeError\u001b[0m: 'str' object does not support item assignment"
     ]
    }
   ],
   "source": [
    "#(ii)String(str) is immutable data type :\n",
    "str = \"dheerajrsingh\"\n",
    "str[8]=\"yadav\"\n",
    "str"
   ]
  },
  {
   "cell_type": "code",
   "execution_count": null,
   "id": "7ce2ca81-bbef-4fd9-9965-e78f2c220c5c",
   "metadata": {},
   "outputs": [],
   "source": []
  },
  {
   "cell_type": "code",
   "execution_count": null,
   "id": "43fc7611-aca2-4c71-9872-a28a12c4d36c",
   "metadata": {},
   "outputs": [],
   "source": []
  },
  {
   "cell_type": "code",
   "execution_count": null,
   "id": "23298704-f995-48e5-8774-9bc33a505213",
   "metadata": {},
   "outputs": [],
   "source": []
  },
  {
   "cell_type": "code",
   "execution_count": null,
   "id": "04f03f1c-7240-42ab-85be-7687723d498a",
   "metadata": {},
   "outputs": [],
   "source": []
  },
  {
   "cell_type": "code",
   "execution_count": null,
   "id": "b1ac4de7-36ed-4fe9-a1e6-c11b324cfa42",
   "metadata": {},
   "outputs": [],
   "source": []
  },
  {
   "cell_type": "code",
   "execution_count": null,
   "id": "461a3f9c-d9ec-4b70-be77-889a8c2c3ab9",
   "metadata": {},
   "outputs": [],
   "source": [
    "\n"
   ]
  }
 ],
 "metadata": {
  "kernelspec": {
   "display_name": "Python 3 (ipykernel)",
   "language": "python",
   "name": "python3"
  },
  "language_info": {
   "codemirror_mode": {
    "name": "ipython",
    "version": 3
   },
   "file_extension": ".py",
   "mimetype": "text/x-python",
   "name": "python",
   "nbconvert_exporter": "python",
   "pygments_lexer": "ipython3",
   "version": "3.10.8"
  }
 },
 "nbformat": 4,
 "nbformat_minor": 5
}
