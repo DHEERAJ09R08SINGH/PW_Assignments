{
 "cells": [
  {
   "cell_type": "markdown",
   "id": "93ec34c9-34e1-4522-958f-23eb5395aeac",
   "metadata": {},
   "source": [
    "# Assignment_2 Questions & Answers :-"
   ]
  },
  {
   "cell_type": "markdown",
   "id": "0e7b7603-0d03-42c8-a01a-598cb6f60864",
   "metadata": {},
   "source": [
    "### Q1. How do you comment code in Python? What are the different types of comments?\n",
    "### Ans:- \n",
    "#### In Python, comments are pieces of free text that the interpreter ignores when the code runs.They're used to provide information about the code's purpose to the programmer or anyone else reading it. \n",
    "#### There are three types of comments: \n",
    "####     (i)Single-line, \n",
    "####     (ii)Multi-line, and \n",
    "####     (iii)Docstring comments. "
   ]
  },
  {
   "cell_type": "markdown",
   "id": "35c0380b-47c1-49cc-b7d8-89247d6057a3",
   "metadata": {},
   "source": [
    "### Q2. What are variables in Python? How do you declare and assign values to variables?\n",
    "### Ans:-\n",
    "####  In Python, variables are like containers that store data values. Unlike some other programming languages, Python doesn't require you to explicitly declare a variable before using it. You simply create a variable by assigning a value to it.\n",
    "#### (i)Assigning values to variables:\n",
    "#### To assign a value to a variable, use the equal sign (=).\n",
    "#### (ii)Declaring variables:\n",
    "#### Technically, there's no formal declaration process in Python. The act of assigning a value to a name automatically creates the variable."
   ]
  },
  {
   "cell_type": "code",
   "execution_count": 1,
   "id": "5de896d5-ac3a-456d-96a4-7a261f72889e",
   "metadata": {},
   "outputs": [],
   "source": [
    "# (i)Assigning values to variables:-\n",
    "x = 5  # Assigns the integer value 5 to the variable x\n",
    "name = \"Alice\"  # Assigns the string value \"Alice\" to the variable name"
   ]
  },
  {
   "cell_type": "code",
   "execution_count": 2,
   "id": "8f7599ba-2628-489c-935a-0d462530f481",
   "metadata": {},
   "outputs": [
    {
     "name": "stdout",
     "output_type": "stream",
     "text": [
      "25\n"
     ]
    }
   ],
   "source": [
    "# (ii)Declaring variables:-\n",
    "age = 25  # This line creates the variable \"age\" and assigns it the value 25.\n",
    "print(age) "
   ]
  },
  {
   "cell_type": "markdown",
   "id": "04775bb5-b655-480a-a049-b9c290c062d6",
   "metadata": {},
   "source": [
    "### Q3. How do you convert one data type to another in Python?\n",
    "### Ans:\n",
    "#### In Python, you can convert one data type to another using type conversion functions or methods.There are two main ways to do this:\n",
    "#### 1. Implicit Type Conversion:\n",
    "#### Python automatically performs some type conversions without the need for explicit code. This usually happens when performing operations between different data types, and Python tries to promote one type to another to avoid data loss.\n",
    "#### 2. Explicit Type Conversion (Type Casting):\n",
    "#### =>You can explicitly convert one data type to another using built-in functions like:\n",
    "#### (i)int(): Converts a value to an integer.\n",
    "#### (ii)float(): Converts a value to a floating-point number.\n",
    "#### (iii)str(): Converts a value to a string.\n",
    "#### (iv)list(): Converts a value to a list.\n",
    "#### (v)tuple(): Converts a value to a tuple.\n",
    "#### (vi)set(): Converts a value to a set.\n",
    "#### (vii)dict(): Converts a sequence of key-value pairs to a dictionary."
   ]
  },
  {
   "cell_type": "code",
   "execution_count": 3,
   "id": "632b3e8e-4321-4ea1-bfd9-497a07981fa4",
   "metadata": {},
   "outputs": [
    {
     "name": "stdout",
     "output_type": "stream",
     "text": [
      "12.5\n",
      "<class 'float'>\n"
     ]
    }
   ],
   "source": [
    "# 1. Implicit Type Conversion:\n",
    "x = 10  # integer\n",
    "y = 2.5  # float\n",
    "\n",
    "z = x + y  # implicit conversion of x to float\n",
    "print(z)  \n",
    "print(type(z)) "
   ]
  },
  {
   "cell_type": "code",
   "execution_count": 4,
   "id": "e93535d5-49b0-4407-bf0c-e6497c65df20",
   "metadata": {},
   "outputs": [
    {
     "name": "stdout",
     "output_type": "stream",
     "text": [
      "10\n",
      "<class 'int'>\n",
      "20\n",
      "<class 'int'>\n"
     ]
    }
   ],
   "source": [
    "# 2. Explicit Type Conversion (Type Casting):\n",
    "a = 10.5\n",
    "b = int(a)  # explicit conversion to integer\n",
    "print(b)   \n",
    "print(type(b)) \n",
    "\n",
    "c = \"20\"\n",
    "d = int(c)  # explicit conversion from string to integer\n",
    "print(d)   \n",
    "print(type(d)) "
   ]
  },
  {
   "cell_type": "markdown",
   "id": "d0117b57-b5bd-471c-bf30-4a79d41c4762",
   "metadata": {},
   "source": [
    "### Q4. How do you write and execute a Python script from the command line?\n",
    "### Ans:\n",
    "### Running Python Scripts involves utilising the Python interpreter to execute the code written in the script. To run Python Scripts, you can open a command prompt or terminal, navigate to the directory containing the script, and use the command \"python script_name.py\" (replace \"script_name\" with the actual filename).\n",
    "### =>How to Run Python Scripts from the command line? \n",
    "#### a) Open the Command Prompt or Terminal \n",
    "####  On Windows, press Win + R, type \"cmd,\" and press Enter. On macOS or Linux, open the Terminal. \n",
    "#### b) Navigate to the Script's Directory \n",
    "#### Use the cd command to change the current directory to the one containing your Python Script. \n",
    "#### cd path/to/script/directory\n",
    "#### c) Run the Python Script \n",
    "#### Enter the following command to execute the Python Script. \n",
    "#### python script_name.py \n",
    "#### Replace \"script_name\" with the actual name of your Python Script. \n",
    "#### If you are using Python 3, you may need to use python3 instead of python: \n",
    "##### python3 script_name.py "
   ]
  },
  {
   "cell_type": "markdown",
   "id": "6f1c1cbc-f3e4-4cf7-aa64-3f76a396142a",
   "metadata": {},
   "source": [
    "### Q5. Given a list my_list = [1, 2, 3, 4, 5], write the code to slice the list and obtain the sub-list [2, 3].\n",
    "### Ans\n",
    "### #slicing\n",
    "#### my_list = [1, 2, 3, 4, 5]"
   ]
  },
  {
   "cell_type": "code",
   "execution_count": 5,
   "id": "68cbf3c3-bcf1-44d0-8e6e-68f996762044",
   "metadata": {},
   "outputs": [
    {
     "name": "stdout",
     "output_type": "stream",
     "text": [
      "[2, 3]\n"
     ]
    }
   ],
   "source": [
    "my_list = [1, 2, 3, 4, 5]\n",
    "sub_list = my_list[1:3]\n",
    "print(sub_list)  # Output: [2, 3]\n"
   ]
  },
  {
   "cell_type": "markdown",
   "id": "4b9ee060-8073-4680-8b60-886e6853012c",
   "metadata": {},
   "source": [
    "### Q6. What is a complex number in mathematics, and how is it represented in Python?\n",
    "### Ans:\n",
    "#### Complex Numbers in Mathematics :-\n",
    "##### In mathematics, a complex number is a number of the form a+bi, where :\n",
    "###### (i) a and b are real numbers.\n",
    "###### (ii) i : is the imaginary unit, satisfying the equation i² = -1.\n",
    "\n",
    "#### In Python, complex numbers are represented using the complex data type. \n",
    "##### The syntax for creating a complex number is :-\n",
    "##### complex_num = a + bj \n",
    "##### where :\n",
    "###### (i) a : is the real part.\n",
    "###### (ii) b : is the imaginary part.\n",
    "###### (iii) j : is used instead of i to represent the imaginary unit.\n",
    "#### Converting real numbers to complex number, An complex number is represented by “ x + yi “. Python converts the real numbers x and y into complex using the function complex(x,y). The real part can be accessed using the function real() and imaginary part can be represented by imag()."
   ]
  },
  {
   "cell_type": "code",
   "execution_count": 6,
   "id": "3f018596-dd6b-4d35-91a7-ab64c2c71e0a",
   "metadata": {},
   "outputs": [
    {
     "name": "stdout",
     "output_type": "stream",
     "text": [
      "(3+5j)\n",
      "<class 'complex'>\n"
     ]
    }
   ],
   "source": [
    "z = 3 + 5j\n",
    "print(z)\n",
    "print(type(z))"
   ]
  },
  {
   "cell_type": "markdown",
   "id": "37e707e5-c505-4ee5-81e8-31f75a5af714",
   "metadata": {},
   "source": [
    "### Q7. What is the correct way to declare a variable named age and assign the value 25 to it?\n",
    "### Ans:-"
   ]
  },
  {
   "cell_type": "code",
   "execution_count": 7,
   "id": "fbd82e5c-c1f6-416d-ae0d-d3f9c2de08d2",
   "metadata": {},
   "outputs": [
    {
     "name": "stdout",
     "output_type": "stream",
     "text": [
      "25\n"
     ]
    }
   ],
   "source": [
    "# Declaring variables:-\n",
    "age = 25  # This line creates the variable \"age\" and assigns it the value 25.\n",
    "print(age) "
   ]
  },
  {
   "cell_type": "markdown",
   "id": "1271a56c-74c0-4b3a-b41f-104c45c6a7ea",
   "metadata": {},
   "source": [
    "### Q8. Declare a variable named price and assign the value 9.99 to it. What data type does this variable belong to?\n",
    "### Ans:-"
   ]
  },
  {
   "cell_type": "code",
   "execution_count": 8,
   "id": "507f3ca9-06be-4f1d-877f-c494d8c793a8",
   "metadata": {},
   "outputs": [
    {
     "name": "stdout",
     "output_type": "stream",
     "text": [
      "<class 'float'>\n"
     ]
    }
   ],
   "source": [
    "# Declaring variables:-\n",
    "price = 9.99 # This line creates the variable \"price\" and assigns it the value 9.99.\n",
    "print(type(price))"
   ]
  },
  {
   "cell_type": "markdown",
   "id": "dee9e160-2b0b-4699-b608-6a47d22773be",
   "metadata": {},
   "source": [
    "### Q9. Create a variable named name and assign your full name to it as a string. How would you print the value of this variable?\n",
    "### Ans:-\n"
   ]
  },
  {
   "cell_type": "code",
   "execution_count": 9,
   "id": "1babab93-6161-4405-8d49-1975b218ac26",
   "metadata": {},
   "outputs": [
    {
     "name": "stdout",
     "output_type": "stream",
     "text": [
      "Dheeraj R Singh\n"
     ]
    }
   ],
   "source": [
    "name = \"Dheeraj R Singh\"\n",
    "print(name)"
   ]
  },
  {
   "cell_type": "markdown",
   "id": "7e17d959-6d1a-4e42-9f8c-826b2f89b92a",
   "metadata": {},
   "source": [
    "### Q10. Given the string \"Hello, World!\", extract the substring \"World\".\n",
    "### Ans:-\n"
   ]
  },
  {
   "cell_type": "code",
   "execution_count": 10,
   "id": "90adaaba-75ff-409c-bc09-dc157dc7ad81",
   "metadata": {},
   "outputs": [
    {
     "data": {
      "text/plain": [
       "'World'"
      ]
     },
     "execution_count": 10,
     "metadata": {},
     "output_type": "execute_result"
    }
   ],
   "source": [
    "a = \"Hello, World!\"\n",
    "a[7:12]"
   ]
  },
  {
   "cell_type": "markdown",
   "id": "3608e24d-5f04-47cb-b311-982d81bedbf1",
   "metadata": {},
   "source": [
    "### Q11. Create a variable named \"is_student\" and assign it a boolean value indicating whether you are currently a student or not.\n",
    "### Ans:-"
   ]
  },
  {
   "cell_type": "code",
   "execution_count": 11,
   "id": "cf6deb24-194a-47aa-aaa6-61b363d90121",
   "metadata": {},
   "outputs": [],
   "source": [
    "# If you are a student\n",
    "is_student = True\n",
    "\n",
    "# If you are not a student\n",
    "is_student = False\n"
   ]
  },
  {
   "cell_type": "code",
   "execution_count": null,
   "id": "91d2e142-a292-4b1e-a92c-821bb4374a62",
   "metadata": {},
   "outputs": [],
   "source": []
  },
  {
   "cell_type": "code",
   "execution_count": null,
   "id": "49efbc0e-928e-4bc1-8c45-f05ae3ab78fc",
   "metadata": {},
   "outputs": [],
   "source": []
  },
  {
   "cell_type": "code",
   "execution_count": null,
   "id": "1d6f83b4-3a1d-44e3-9d06-04816ec1dba7",
   "metadata": {},
   "outputs": [],
   "source": []
  },
  {
   "cell_type": "code",
   "execution_count": null,
   "id": "38e69164-f420-44da-b125-d8959befa96c",
   "metadata": {},
   "outputs": [],
   "source": []
  },
  {
   "cell_type": "code",
   "execution_count": null,
   "id": "5b7b28c1-b992-4817-8f63-ef0a46f8baca",
   "metadata": {},
   "outputs": [],
   "source": []
  },
  {
   "cell_type": "code",
   "execution_count": null,
   "id": "379f6d08-40ca-4bc4-87c3-fea3f3caef90",
   "metadata": {},
   "outputs": [],
   "source": []
  },
  {
   "cell_type": "code",
   "execution_count": null,
   "id": "ab403520-c878-4ede-a8d0-9d1b9a526d7a",
   "metadata": {},
   "outputs": [],
   "source": []
  },
  {
   "cell_type": "code",
   "execution_count": null,
   "id": "eac0d08d-de62-4d00-9cc8-1a852411519d",
   "metadata": {},
   "outputs": [],
   "source": []
  },
  {
   "cell_type": "code",
   "execution_count": null,
   "id": "07d6aecb-6e0b-4bb2-96cb-fe4c70759de8",
   "metadata": {},
   "outputs": [],
   "source": []
  }
 ],
 "metadata": {
  "kernelspec": {
   "display_name": "Python 3 (ipykernel)",
   "language": "python",
   "name": "python3"
  },
  "language_info": {
   "codemirror_mode": {
    "name": "ipython",
    "version": 3
   },
   "file_extension": ".py",
   "mimetype": "text/x-python",
   "name": "python",
   "nbconvert_exporter": "python",
   "pygments_lexer": "ipython3",
   "version": "3.10.8"
  }
 },
 "nbformat": 4,
 "nbformat_minor": 5
}
