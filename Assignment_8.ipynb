{
 "cells": [
  {
   "cell_type": "markdown",
   "id": "b4b09265-02e2-450f-b2f3-6aa04af4b893",
   "metadata": {},
   "source": [
    "# Assignment_8 Questions & Answers :-"
   ]
  },
  {
   "cell_type": "markdown",
   "id": "e72b719d-b0d3-4a71-a1ba-41cdbab645c5",
   "metadata": {},
   "source": [
    "### Q1. What is an Exception in python? Write the difference between Exceptions and syntax errors ?.\n",
    "### Ans:-\n",
    "#### In Python, an exception is an event that occurs during the execution of a program that disrupts the normal flow of the program's instructions. Exceptions are typically errors detected during execution, like attempting to divide by zero, accessing a file that does not exist, or trying to use an undefined variable.\n",
    "\n",
    "\n",
    "\n"
   ]
  },
  {
   "cell_type": "code",
   "execution_count": 1,
   "id": "491ca2cd-f692-43ae-b07b-e205f518005c",
   "metadata": {},
   "outputs": [
    {
     "name": "stdout",
     "output_type": "stream",
     "text": [
      "Cannot divide by zero!\n"
     ]
    }
   ],
   "source": [
    "# Here’s a basic example of an exception:-\n",
    "try:\n",
    "    result = 10 / 0\n",
    "except ZeroDivisionError:\n",
    "    print(\"Cannot divide by zero!\")\n"
   ]
  },
  {
   "cell_type": "markdown",
   "id": "7be6bb2e-9c5b-4069-8a4d-e28451ea96f1",
   "metadata": {},
   "source": [
    "### Exceptions vs. Syntax Errors :-\n",
    "#### While both exceptions and syntax errors disrupt the normal flow of a program, they occur at different stages and for different reasons."
   ]
  },
  {
   "cell_type": "markdown",
   "id": "63c03ff4-a908-4da2-b774-7a29c39b8a07",
   "metadata": {},
   "source": [
    "#### 1.Exceptions:\n",
    "    When: Occur during the execution of a program (runtime).\n",
    "    \n",
    "    Why: Happen when the program encounters an error while running. \n",
    "         Examples include ZeroDivisionError, FileNotFoundError, ValueError, etc.\n",
    "         \n",
    "    Handling: Can be caught and handled using try and except blocks.\n"
   ]
  },
  {
   "cell_type": "code",
   "execution_count": 2,
   "id": "7465d522-ea01-49f7-a9be-111dcfc5690e",
   "metadata": {},
   "outputs": [
    {
     "name": "stdout",
     "output_type": "stream",
     "text": [
      "Caught a ValueError!\n"
     ]
    }
   ],
   "source": [
    "# Example:-\n",
    "try:\n",
    "    number = int(\"not_a_number\")\n",
    "except ValueError:\n",
    "    print(\"Caught a ValueError!\")\n"
   ]
  },
  {
   "cell_type": "markdown",
   "id": "1a1c030c-ed0f-4ef2-af85-5b46e4c6e4f3",
   "metadata": {},
   "source": [
    "#### 2.Syntax Errors:\n",
    "    When: Occur during the parsing stage (before execution starts).\n",
    "    \n",
    "    Why: Happen due to incorrect syntax in the code. The Python interpreter cannot understand the code because it does not follow the rules of the language. Examples include missing colons, incorrect indentation, and misspelled keywords.\n",
    "    \n",
    "    Handling: Cannot be caught or handled during execution because the code does not run at all if there are syntax errors.\n"
   ]
  },
  {
   "cell_type": "code",
   "execution_count": 3,
   "id": "3d943c61-b2b7-4270-9edc-2a9bd62aa0a0",
   "metadata": {},
   "outputs": [
    {
     "ename": "SyntaxError",
     "evalue": "expected ':' (1879774459.py, line 3)",
     "output_type": "error",
     "traceback": [
      "\u001b[0;36m  Cell \u001b[0;32mIn[3], line 3\u001b[0;36m\u001b[0m\n\u001b[0;31m    if True\u001b[0m\n\u001b[0m           ^\u001b[0m\n\u001b[0;31mSyntaxError\u001b[0m\u001b[0;31m:\u001b[0m expected ':'\n"
     ]
    }
   ],
   "source": [
    "# Example:-\n",
    "# Syntax Error: missing colon\n",
    "if True\n",
    "    print(\"This will cause a syntax error\")\n"
   ]
  },
  {
   "cell_type": "markdown",
   "id": "a6deab43-63e5-4cec-82f5-3ec349cd94ae",
   "metadata": {},
   "source": [
    "#### Summary :-\n",
    "    (i)Exceptions occur at runtime, and can be handled with try and except blocks.\n",
    "    \n",
    "    (ii)Syntax errors occur at parsing time (before the program runs), and must be fixed before the code can be executed.\n",
    "\n",
    "\n",
    "\n",
    "\n",
    "\n"
   ]
  },
  {
   "cell_type": "markdown",
   "id": "79a19cbe-746b-4bfc-aae3-33507e99af62",
   "metadata": {},
   "source": [
    "### Q2. What happens when an exception is not handled? Explain with an example ?.\n",
    "### Ans:-\n",
    "#### When an exception is not handled in Python, the program terminates immediately, and the interpreter displays a traceback, which includes the type of the exception, the error message, and the sequence of calls that led to the exception. This can help the programmer understand what went wrong and where in the code the error occurred."
   ]
  },
  {
   "cell_type": "code",
   "execution_count": 4,
   "id": "8c28f65b-cf5e-4976-adfd-2f9bd2a14588",
   "metadata": {},
   "outputs": [
    {
     "ename": "ZeroDivisionError",
     "evalue": "division by zero",
     "output_type": "error",
     "traceback": [
      "\u001b[0;31m---------------------------------------------------------------------------\u001b[0m",
      "\u001b[0;31mZeroDivisionError\u001b[0m                         Traceback (most recent call last)",
      "Cell \u001b[0;32mIn[4], line 5\u001b[0m\n\u001b[1;32m      2\u001b[0m \u001b[38;5;28;01mdef\u001b[39;00m \u001b[38;5;21mdivide_numbers\u001b[39m(a, b):\n\u001b[1;32m      3\u001b[0m     \u001b[38;5;28;01mreturn\u001b[39;00m a \u001b[38;5;241m/\u001b[39m b\n\u001b[0;32m----> 5\u001b[0m result \u001b[38;5;241m=\u001b[39m \u001b[43mdivide_numbers\u001b[49m\u001b[43m(\u001b[49m\u001b[38;5;241;43m10\u001b[39;49m\u001b[43m,\u001b[49m\u001b[43m \u001b[49m\u001b[38;5;241;43m0\u001b[39;49m\u001b[43m)\u001b[49m\n\u001b[1;32m      6\u001b[0m \u001b[38;5;28mprint\u001b[39m(\u001b[38;5;124m\"\u001b[39m\u001b[38;5;124mThis will not be printed because the exception is not handled.\u001b[39m\u001b[38;5;124m\"\u001b[39m)\n",
      "Cell \u001b[0;32mIn[4], line 3\u001b[0m, in \u001b[0;36mdivide_numbers\u001b[0;34m(a, b)\u001b[0m\n\u001b[1;32m      2\u001b[0m \u001b[38;5;28;01mdef\u001b[39;00m \u001b[38;5;21mdivide_numbers\u001b[39m(a, b):\n\u001b[0;32m----> 3\u001b[0m     \u001b[38;5;28;01mreturn\u001b[39;00m \u001b[43ma\u001b[49m\u001b[43m \u001b[49m\u001b[38;5;241;43m/\u001b[39;49m\u001b[43m \u001b[49m\u001b[43mb\u001b[49m\n",
      "\u001b[0;31mZeroDivisionError\u001b[0m: division by zero"
     ]
    }
   ],
   "source": [
    "# Here's an example to illustrate what happens when an exception is not handled:-\n",
    "def divide_numbers(a, b):\n",
    "    return a / b\n",
    "\n",
    "result = divide_numbers(10, 0)\n",
    "print(\"This will not be printed because the exception is not handled.\")\n"
   ]
  },
  {
   "cell_type": "markdown",
   "id": "07878df9-1cdd-48de-b0ac-2aeda529eede",
   "metadata": {},
   "source": [
    "### Explanation:-\n",
    "#### (i)Traceback:-\n",
    "    ->The traceback shows the sequence of function calls that led to the exception.\n",
    "    \n",
    "    ->It starts from the line where the error occurred and traces back to the point where the function was called.\n",
    "    \n",
    "#### (ii)Type of Exception:-\n",
    "    ->The type of the exception (ZeroDivisionError) is displayed.\n",
    "    \n",
    "    ->The error message (division by zero) describes the nature of the error.\n",
    "    \n",
    "#### (iii)Program Termination:-\n",
    "    ->The program stops executing immediately after the exception is raised.\n",
    "    \n",
    "    ->Any code after the line that caused the exception will not be executed. In the example above, print(\"This will not be printed because the exception is not handled.\") is never executed.\n",
    "    \n",
    "### Importance of Handling Exceptions :-\n",
    "    By handling exceptions, you can prevent your program from crashing and can provide meaningful error messages to the user. Here’s how you can handle the exception from the example above:"
   ]
  },
  {
   "cell_type": "code",
   "execution_count": 5,
   "id": "6ba4a369-f2be-491b-80f9-105071eed522",
   "metadata": {},
   "outputs": [
    {
     "name": "stdout",
     "output_type": "stream",
     "text": [
      "Cannot divide by zero!\n",
      "This will be printed because the exception is handled.\n",
      "Result: None\n"
     ]
    }
   ],
   "source": [
    "def divide_numbers(a, b):\n",
    "    try:\n",
    "        return a / b\n",
    "    except ZeroDivisionError:\n",
    "        print(\"Cannot divide by zero!\")\n",
    "        return None\n",
    "\n",
    "result = divide_numbers(10, 0)\n",
    "print(\"This will be printed because the exception is handled.\")\n",
    "print(f\"Result: {result}\")\n"
   ]
  },
  {
   "cell_type": "markdown",
   "id": "6d5db93b-8e45-4af5-8d01-80038c24947b",
   "metadata": {},
   "source": [
    "In this modified example, the exception is caught using a try and except block, allowing the program to continue running and providing a meaningful error message instead of crashing.\n",
    "\n",
    "\n",
    "\n",
    "\n",
    "\n",
    "\n"
   ]
  },
  {
   "cell_type": "markdown",
   "id": "071544f1-95d5-41e0-b850-c31440c8b5bf",
   "metadata": {},
   "source": [
    "###  Q3. Which Python statements are used to catch and handle exceptions? Explain with an example ?.\n",
    "### Ans:\n",
    "#### In Python, exceptions are caught and handled using the try, except, else, and finally statements. Here's an overview of how these statements work, followed by an example:\n",
    "    (i)try block: You write the code that might raise an exception inside the try block.\n",
    "\n",
    "    (ii)except block: You write the code that handles the exception inside one or more except blocks. You can specify the type of exception you want to catch.\n",
    "\n",
    "    (iii)else block (optional): You write the code that should run if no exceptions are raised in the try block.\n",
    "\n",
    "    (iv)finally block (optional): You write the code that should run no matter what, whether an exception was raised or not. This is typically used for cleanup actions.\n"
   ]
  },
  {
   "cell_type": "code",
   "execution_count": 6,
   "id": "3499459a-6430-48eb-9600-c9275d8978d6",
   "metadata": {},
   "outputs": [
    {
     "name": "stdout",
     "output_type": "stream",
     "text": [
      "Division successful.\n",
      "Execution of try-except block completed.\n",
      "5.0\n",
      "Cannot divide by zero!\n",
      "Execution of try-except block completed.\n",
      "None\n",
      "Invalid input type. Please provide numbers.\n",
      "Execution of try-except block completed.\n",
      "None\n"
     ]
    }
   ],
   "source": [
    "# Example :-\n",
    "def divide_numbers(a, b):\n",
    "    try:\n",
    "        result = a / b\n",
    "    except ZeroDivisionError:\n",
    "        print(\"Cannot divide by zero!\")\n",
    "        result = None\n",
    "    except TypeError:\n",
    "        print(\"Invalid input type. Please provide numbers.\")\n",
    "        result = None\n",
    "    else:\n",
    "        print(\"Division successful.\")\n",
    "    finally:\n",
    "        print(\"Execution of try-except block completed.\")\n",
    "    return result\n",
    "\n",
    "# Test the function with different inputs\n",
    "print(divide_numbers(10, 2))   # Valid division\n",
    "print(divide_numbers(10, 0))   # Division by zero\n",
    "print(divide_numbers(10, \"a\")) # Invalid type\n"
   ]
  },
  {
   "cell_type": "markdown",
   "id": "a5323f6e-445b-4b18-ac55-1ca7b7fbe552",
   "metadata": {},
   "source": [
    "### Q4. Explain with an example:-\n",
    "       (i) try and else\n",
    "       (ii) finally\n",
    "       (iii) raise\n",
    "### Ans :-\n",
    "### (i) try and else : \n",
    "    The else block in a try statement is executed if no exceptions are raised in the try block. It's useful for code that should run only if the try block doesn't raise an exception.\n",
    "### (ii) finally :\n",
    "    The finally block is executed no matter what, whether an exception was raised or not. It's often used for cleanup actions, like closing a file or releasing resources.\n",
    "### (iii) raise :\n",
    "    The raise statement is used to manually raise an exception in your code. This can be useful when you want to enforce certain conditions or signal an error situation."
   ]
  },
  {
   "cell_type": "code",
   "execution_count": 10,
   "id": "26e4effe-5041-4436-9adb-057b0bf23817",
   "metadata": {},
   "outputs": [
    {
     "name": "stdout",
     "output_type": "stream",
     "text": [
      "Division successful.\n",
      "5.0\n",
      "Cannot divide by zero!\n",
      "None\n"
     ]
    }
   ],
   "source": [
    "# (i) try and else :\n",
    "def divide_numbers(a, b):\n",
    "    try:\n",
    "        result = a / b\n",
    "    except ZeroDivisionError:\n",
    "        print(\"Cannot divide by zero!\")\n",
    "        result = None\n",
    "    else:\n",
    "        # This block runs only if no exceptions are raised in the try block\n",
    "        print(\"Division successful.\")\n",
    "    return result\n",
    "\n",
    "# Test the function with valid input\n",
    "print(divide_numbers(10, 2))  # Expected to run the else block\n",
    "# Test the function with invalid input\n",
    "print(divide_numbers(10, 0))  # Expected to run the except block\n"
   ]
  },
  {
   "cell_type": "code",
   "execution_count": 11,
   "id": "cea3fc2c-44d0-4167-9702-84c130c8562b",
   "metadata": {},
   "outputs": [
    {
     "name": "stdout",
     "output_type": "stream",
     "text": [
      "Execution of try-except block completed.\n",
      "5.0\n",
      "Cannot divide by zero!\n",
      "Execution of try-except block completed.\n",
      "None\n"
     ]
    }
   ],
   "source": [
    "# (ii) finally :\n",
    "def divide_numbers(a, b):\n",
    "    try:\n",
    "        result = a / b\n",
    "    except ZeroDivisionError:\n",
    "        print(\"Cannot divide by zero!\")\n",
    "        result = None\n",
    "    finally:\n",
    "        # This block runs no matter what\n",
    "        print(\"Execution of try-except block completed.\")\n",
    "    return result\n",
    "\n",
    "# Test the function with valid input\n",
    "print(divide_numbers(10, 2))\n",
    "# Test the function with invalid input\n",
    "print(divide_numbers(10, 0))\n"
   ]
  },
  {
   "cell_type": "code",
   "execution_count": 12,
   "id": "8f9b7713-019e-4465-8953-b5d6398c975e",
   "metadata": {},
   "outputs": [
    {
     "name": "stdout",
     "output_type": "stream",
     "text": [
      "The number is positive.\n",
      "The number must be positive!\n"
     ]
    }
   ],
   "source": [
    "# (iii) raise :\n",
    "def check_positive(number):\n",
    "    if number < 0:\n",
    "        raise ValueError(\"The number must be positive!\")\n",
    "    else:\n",
    "        print(\"The number is positive.\")\n",
    "\n",
    "# Test the function with a positive number\n",
    "try:\n",
    "    check_positive(10)\n",
    "except ValueError as e:\n",
    "    print(e)\n",
    "\n",
    "# Test the function with a negative number\n",
    "try:\n",
    "    check_positive(-5)\n",
    "except ValueError as e:\n",
    "    print(e)\n"
   ]
  },
  {
   "cell_type": "markdown",
   "id": "fe77de09-114e-40f4-9705-d5e5a3d88ea3",
   "metadata": {},
   "source": [
    "### Q5. What are Custom Exceptions in python? Why do we need Custom Exceptions? Explain with an example.\n",
    "### Ans:-\n",
    "#### Custom exceptions in Python are user-defined exceptions that allow you to create specific error types tailored to your application's needs. Custom exceptions can make your code more readable and provide more meaningful error messages, making it easier to debug and maintain.\n",
    "### Why Do We Need Custom Exceptions?\n",
    "    (i)Clarity: Custom exceptions can provide more specific information about what went wrong, rather than using generic exceptions.\n",
    "    \n",
    "    (ii)Control: They allow you to handle different error conditions in a granular way.\n",
    "    \n",
    "    (iii)Maintainability: Custom exceptions can help encapsulate error logic, making the code more modular and easier to maintain.\n",
    "    \n",
    "### Creating a Custom Exception:-\n",
    "    To create a custom exception, you define a new class that inherits from Python's built-in Exception class (or one of its subclasses).\n",
    "Example:-\n",
    "Let's create a custom exception called NegativeNumberError and use it in a function that only accepts positive numbers.\n"
   ]
  },
  {
   "cell_type": "code",
   "execution_count": 14,
   "id": "c31d1265-d119-4a49-bb1d-620693da830f",
   "metadata": {},
   "outputs": [
    {
     "name": "stdout",
     "output_type": "stream",
     "text": [
      "The number is positive.\n",
      "Negative numbers are not allowed: -5\n"
     ]
    }
   ],
   "source": [
    "# Define the custom exception\n",
    "class NegativeNumberError(Exception):\n",
    "    def __init__(self, value):\n",
    "        self.value = value\n",
    "        self.message = f\"Negative numbers are not allowed: {value}\"\n",
    "        super().__init__(self.message)\n",
    "\n",
    "# Function that uses the custom exception\n",
    "def check_positive(number):\n",
    "    if number < 0:\n",
    "        raise NegativeNumberError(number)\n",
    "    else:\n",
    "        print(\"The number is positive.\")\n",
    "\n",
    "# Test the function with a positive number\n",
    "try:\n",
    "    check_positive(10)\n",
    "except NegativeNumberError as e:\n",
    "    print(e)\n",
    "\n",
    "# Test the function with a negative number\n",
    "try:\n",
    "    check_positive(-5)\n",
    "except NegativeNumberError as e:\n",
    "    print(e)\n"
   ]
  },
  {
   "cell_type": "markdown",
   "id": "93e4c436-a570-491f-a248-d8469a3217fd",
   "metadata": {},
   "source": [
    "### Q6. Create a custom exception class. Use this class to handle an exception ?.\n",
    "### Ans:-\n",
    "####  let's create a custom exception class and use it to handle an exception in a simple application. We'll create a custom exception called InsufficientFundsError for a basic banking application that checks if a withdrawal can be made from an account.\n",
    "### Step-by-Step Example\n",
    "    (i)Define the Custom Exception Class:\n",
    "    We'll define a custom exception InsufficientFundsError that will be raised when a withdrawal amount exceeds the available balance.\n",
    "\n",
    "    (ii)Implement the Banking Functionality:\n",
    "    We'll create a simple BankAccount class that has methods for depositing and withdrawing money.\n",
    "    If a withdrawal attempt is made with insufficient funds, we'll raise the InsufficientFundsError.\n",
    "\n",
    "    (iii)Handle the Custom Exception:\n",
    "    We'll use a try-except block to handle the custom exception when it is raised.\n"
   ]
  },
  {
   "cell_type": "code",
   "execution_count": 17,
   "id": "a9568156-cfa6-42be-b0e7-c982f9ae8abb",
   "metadata": {},
   "outputs": [
    {
     "name": "stdout",
     "output_type": "stream",
     "text": [
      "Deposited: 50. New balance: 150\n",
      "Withdrew: 30. New balance: 120\n",
      "Attempted to withdraw 150 with only 120 available.\n"
     ]
    }
   ],
   "source": [
    "#1. Define the Custom Exception Class:-\n",
    "class InsufficientFundsError(Exception):\n",
    "    def __init__(self, balance, amount):\n",
    "        self.balance = balance\n",
    "        self.amount = amount\n",
    "        self.message = f\"Attempted to withdraw {amount} with only {balance} available.\"\n",
    "        super().__init__(self.message)\n",
    "\n",
    "#2. Implement the Banking Functionality:-\n",
    "class BankAccount:\n",
    "    def __init__(self, balance=0):\n",
    "        self.balance = balance\n",
    "\n",
    "    def deposit(self, amount):\n",
    "        self.balance += amount\n",
    "        print(f\"Deposited: {amount}. New balance: {self.balance}\")\n",
    "\n",
    "    def withdraw(self, amount):\n",
    "        if amount > self.balance:\n",
    "            raise InsufficientFundsError(self.balance, amount)\n",
    "        self.balance -= amount\n",
    "        print(f\"Withdrew: {amount}. New balance: {self.balance}\")\n",
    "\n",
    "# Create a bank account with an initial balance\n",
    "account = BankAccount(100)\n",
    "\n",
    "#3. Handle the Custom Exception:-\n",
    "\n",
    "# Test deposit\n",
    "account.deposit(50)\n",
    "\n",
    "# Test withdrawal with sufficient funds\n",
    "try:\n",
    "    account.withdraw(30)\n",
    "except InsufficientFundsError as e:\n",
    "    print(e)\n",
    "\n",
    "# Test withdrawal with insufficient funds\n",
    "try:\n",
    "    account.withdraw(150)\n",
    "except InsufficientFundsError as e:\n",
    "    print(e)\n"
   ]
  },
  {
   "cell_type": "code",
   "execution_count": null,
   "id": "fb1bc944-6e6d-445c-ad0d-0295745f8921",
   "metadata": {},
   "outputs": [],
   "source": []
  },
  {
   "cell_type": "code",
   "execution_count": null,
   "id": "8cf23e8d-0d5a-4325-a07d-816a5e8502fd",
   "metadata": {},
   "outputs": [],
   "source": []
  },
  {
   "cell_type": "code",
   "execution_count": null,
   "id": "14fa352f-dad7-4582-8400-5ef31b70ffe4",
   "metadata": {},
   "outputs": [],
   "source": []
  },
  {
   "cell_type": "code",
   "execution_count": null,
   "id": "7f6cb11e-441d-4f94-9053-caf592159da5",
   "metadata": {},
   "outputs": [],
   "source": []
  },
  {
   "cell_type": "code",
   "execution_count": null,
   "id": "2d62845c-3a56-48b6-b466-776c7e545bda",
   "metadata": {},
   "outputs": [],
   "source": []
  },
  {
   "cell_type": "code",
   "execution_count": null,
   "id": "05450462-d745-415e-8713-ab6aa0d36000",
   "metadata": {},
   "outputs": [],
   "source": []
  },
  {
   "cell_type": "code",
   "execution_count": null,
   "id": "87308803-d807-4f52-aab3-9115326d69f8",
   "metadata": {},
   "outputs": [],
   "source": []
  },
  {
   "cell_type": "code",
   "execution_count": null,
   "id": "5e441354-7221-40b0-89ee-619db2186a01",
   "metadata": {},
   "outputs": [],
   "source": []
  },
  {
   "cell_type": "code",
   "execution_count": null,
   "id": "89cfdda5-990b-415a-9370-5633dde19479",
   "metadata": {},
   "outputs": [],
   "source": []
  }
 ],
 "metadata": {
  "kernelspec": {
   "display_name": "Python 3 (ipykernel)",
   "language": "python",
   "name": "python3"
  },
  "language_info": {
   "codemirror_mode": {
    "name": "ipython",
    "version": 3
   },
   "file_extension": ".py",
   "mimetype": "text/x-python",
   "name": "python",
   "nbconvert_exporter": "python",
   "pygments_lexer": "ipython3",
   "version": "3.10.8"
  }
 },
 "nbformat": 4,
 "nbformat_minor": 5
}
