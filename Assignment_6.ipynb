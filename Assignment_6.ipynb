{
 "cells": [
  {
   "cell_type": "markdown",
   "id": "97a93080-3e89-4671-8768-2016be7306f0",
   "metadata": {},
   "source": [
    "# Assignment_6 Questions & Answers :-"
   ]
  },
  {
   "cell_type": "markdown",
   "id": "c9d1e21f-d0d6-40da-93cc-b76d6fef50d0",
   "metadata": {},
   "source": [
    "### Q1. Explain Class and Object with respect to Object-Oriented Programming. Give a suitable example.\n",
    "### Ans:-\n",
    "#### In Object-Oriented Programming (OOP), a class is a blueprint or prototype for creating objects. It defines a set of attributes and methods that the created objects will have. An object is an instance of a class, representing a specific realization of the class blueprint with actual values for the attributes.\n",
    "#### Class :- \n",
    "####  (i) A class encapsulates data for the object.\n",
    "####  (ii) It defines properties (attributes) and behaviors (methods) that the objects created from the class will have.\n",
    "####  (iii) It serves as a template to create multiple objects with similar properties and behaviors.\n",
    "#### Object :- \n",
    "####  (i) An object is an instance of a class.\n",
    "####  (ii) It holds actual values for the attributes defined by the class.\n",
    "####  (ii) It can perform actions using the methods defined in the class."
   ]
  },
  {
   "cell_type": "code",
   "execution_count": 1,
   "id": "4d3737c8-9d02-446d-93a1-7c61b53af8fc",
   "metadata": {},
   "outputs": [
    {
     "name": "stdout",
     "output_type": "stream",
     "text": [
      "2020 Toyota Corolla\n",
      "2019 Honda Civic\n"
     ]
    }
   ],
   "source": [
    "# Here's a simple example to illustrate the concepts of class and object:-\n",
    "class Car:\n",
    "    # Class constructor\n",
    "    def __init__(self, make, model, year):\n",
    "        self.make = make      # Attribute\n",
    "        self.model = model    # Attribute\n",
    "        self.year = year      # Attribute\n",
    "\n",
    "    # Method to display car details\n",
    "    def display_details(self):\n",
    "        return f\"{self.year} {self.make} {self.model}\"\n",
    "\n",
    "# Creating objects (instances of the Car class)\n",
    "car1 = Car(\"Toyota\", \"Corolla\", 2020)\n",
    "car2 = Car(\"Honda\", \"Civic\", 2019)\n",
    "\n",
    "# Accessing attributes and methods\n",
    "print(car1.display_details())  # Output: 2020 Toyota Corolla\n",
    "print(car2.display_details())  # Output: 2019 Honda Civic\n"
   ]
  },
  {
   "cell_type": "markdown",
   "id": "ccac95e1-d011-4d3f-8cbf-851273ca009e",
   "metadata": {},
   "source": [
    "### Q2. Name the four pillars of OOPs.\n",
    "### Ans:-\n",
    "#### The four pillars of Object-Oriented Programming (OOP) are:\n",
    "\n",
    "#### 1. **Encapsulation**:\n",
    "    - Encapsulation is the concept of bundling the data (attributes) and methods (functions) that operate on the data into a single unit, known as a class.\n",
    "    - It restricts direct access to some of an object's components, which is a means of preventing accidental interference and misuse of the data.\n",
    "    - Encapsulation is often achieved using access modifiers like private, protected, and public.\n",
    "\n",
    "#### 2. **Inheritance**:\n",
    "    - Inheritance is a mechanism where a new class, known as a subclass or derived class, inherits properties and behaviors (methods) from an existing class, known as a superclass or base class.\n",
    "    - It allows for code reusability and the creation of a hierarchical relationship between classes.\n",
    "    - The subclass can add new attributes and methods, as well as override existing ones from the superclass.\n",
    "\n",
    "#### 3. **Polymorphism**:\n",
    "    - Polymorphism allows objects of different classes to be treated as objects of a common superclass.\n",
    "    - It enables a single interface to represent different underlying data types.\n",
    "    - Polymorphism can be achieved through method overriding (runtime polymorphism) and method overloading (compile-time polymorphism).\n",
    "\n",
    "#### 4. **Abstraction**:\n",
    "    - Abstraction is the concept of hiding the complex implementation details and showing only the essential features of the object.\n",
    "    - It simplifies the interaction with the object by providing a clear and simplified interface.\n",
    "    - Abstraction is often achieved using abstract classes and interfaces.\n",
    "\n",
    "##### These four pillars are fundamental concepts that define the structure and behavior of object-oriented programming languages and enable the design of robust, scalable, and maintainable software systems."
   ]
  },
  {
   "cell_type": "markdown",
   "id": "5087dd5e-4d6f-46b6-8093-7c00bc9849f7",
   "metadata": {},
   "source": [
    "### Q3. Explain why the __init__() function is used. Give a suitable example.\n",
    "### Ans:-\n",
    "#### The __init__() function in Python is a special method called a constructor. It is automatically called when a new instance of a class is created. The primary purpose of the __init__() method is to initialize the instance variables of the object. It allows the object to set its initial state by assigning values to the properties defined in the class.\n",
    "### Why __init__() is Used :-\n",
    "#### (i) Initialization: It sets up initial values for the attributes of the object.\n",
    "#### (ii) Parameterization: It allows the passing of parameters during object creation, making each object unique.\n",
    "#### (iii) Automatic Invocation: It ensures that initialization code is executed automatically when an object is created."
   ]
  },
  {
   "cell_type": "code",
   "execution_count": 2,
   "id": "ceb65d9c-cbec-483f-bbdf-9fdcc04537c6",
   "metadata": {},
   "outputs": [
    {
     "name": "stdout",
     "output_type": "stream",
     "text": [
      "Name: Alice, Age: 30\n",
      "Name: Bob, Age: 25\n"
     ]
    }
   ],
   "source": [
    "# Here's a simple example to illustrate the use of the __init__() method:-\n",
    "class Person:\n",
    "    def __init__(self, name, age):\n",
    "        self.name = name  # Instance variable for name\n",
    "        self.age = age    # Instance variable for age\n",
    "\n",
    "    def display_info(self):\n",
    "        return f\"Name: {self.name}, Age: {self.age}\"\n",
    "\n",
    "# Creating instances of the Person class\n",
    "person1 = Person(\"Alice\", 30)\n",
    "person2 = Person(\"Bob\", 25)\n",
    "\n",
    "# Accessing instance variables and methods\n",
    "print(person1.display_info())  # Output: Name: Alice, Age: 30\n",
    "print(person2.display_info())  # Output: Name: Bob, Age: 25\n"
   ]
  },
  {
   "cell_type": "markdown",
   "id": "80d64850-7849-4a16-95bd-ddb0dfc0aae6",
   "metadata": {},
   "source": [
    "### Q4. Why self is used in OOPs?\n",
    "### Ans:-\n",
    "#### In Object-Oriented Programming (OOP), self is a reference to the current instance of the class. It is used to access variables and methods that belong to the class instance. Here's why self is important:\n",
    "\n",
    "#### (i)Instance Differentiation:-\n",
    "\n",
    "self allows each instance of a class to have its own unique set of attributes and methods. It differentiates between the instance variables of different objects.\n",
    "\n",
    "#### (ii)Attribute Access:-\n",
    "\n",
    "Using self, you can access and modify the attributes of the current object. It is used to bind the attributes with the given arguments.\n",
    "\n",
    "#### (iii)Method Calling:-\n",
    "\n",
    "self is required to call other methods from within the same class. It ensures that the correct instance methods are called.\n",
    "\n",
    "#### (iv)Clarity and Convention:-\n",
    "\n",
    "Although self is not a keyword in Python, it is a strong convention. It makes the code more readable and understandable by explicitly showing that a method or attribute belongs to an instance."
   ]
  },
  {
   "cell_type": "markdown",
   "id": "fa6d3772-4dfc-43c6-998a-ee0ca833bd85",
   "metadata": {
    "tags": []
   },
   "source": [
    "### Q5. What is inheritance? Give an example for each type of inheritance.\n",
    "### Ans:-\n",
    "#### Inheritance is a fundamental concept in Object-Oriented Programming (OOP) that allows a class (known as a subclass or derived class) to inherit attributes and methods from another class (known as a superclass or base class). This mechanism promotes code reusability and establishes a natural hierarchy between classes.\n",
    "### There are several types of inheritance in Python:\n",
    "#### (i)Single Inheritance: A subclass inherits from a single superclass.\n",
    "#### (ii)Multiple Inheritance: A subclass inherits from more than one superclass.\n",
    "#### (iii)Multilevel Inheritance:A subclass inherits from a superclass, which in turn inherits from another superclass.\n",
    "#### (iv)Hierarchical Inheritance:Multiple subclasses inherit from the same superclass.\n",
    "#### (v)Hybrid Inheritance: In hybrid inheritance, a combination of more than one type of inheritance is used. Note that hybrid inheritance can sometimes lead to complexities like the Diamond Problem."
   ]
  },
  {
   "cell_type": "code",
   "execution_count": 7,
   "id": "0329f8f5-df35-485f-aee6-b7206111d863",
   "metadata": {},
   "outputs": [
    {
     "name": "stdout",
     "output_type": "stream",
     "text": [
      "Eating\n",
      "Barking\n"
     ]
    }
   ],
   "source": [
    "#(i)Single Inheritance\n",
    "class Animal:\n",
    "    def eat(self):\n",
    "        print(\"Eating\")\n",
    "\n",
    "class Dog(Animal):\n",
    "    def bark(self):\n",
    "        print(\"Barking\")\n",
    "\n",
    "# Create an instance of Dog\n",
    "dog = Dog()\n",
    "dog.eat()  # Output: Eating\n",
    "dog.bark()  # Output: Barking\n"
   ]
  },
  {
   "cell_type": "code",
   "execution_count": 8,
   "id": "4cf6e1fa-a1cd-4f04-baf6-030c20ef0904",
   "metadata": {},
   "outputs": [
    {
     "name": "stdout",
     "output_type": "stream",
     "text": [
      "Flying\n",
      "Swimming\n"
     ]
    }
   ],
   "source": [
    "#(ii)Multiple Inheritance\n",
    "class Bird:\n",
    "    def fly(self):\n",
    "        print(\"Flying\")\n",
    "\n",
    "class Swimmer:\n",
    "    def swim(self):\n",
    "        print(\"Swimming\")\n",
    "\n",
    "class Duck(Bird, Swimmer):\n",
    "    pass\n",
    "\n",
    "# Create an instance of Duck\n",
    "duck = Duck()\n",
    "duck.fly()  # Output: Flying\n",
    "duck.swim()  # Output: Swimming\n"
   ]
  },
  {
   "cell_type": "code",
   "execution_count": 9,
   "id": "2e0b7d20-0eb0-4475-ab34-8bf95d366c8a",
   "metadata": {},
   "outputs": [
    {
     "name": "stdout",
     "output_type": "stream",
     "text": [
      "Eating\n",
      "Walking\n",
      "Barking\n"
     ]
    }
   ],
   "source": [
    "#(iii)Multilevel Inheritance\n",
    "class Animal:\n",
    "    def eat(self):\n",
    "        print(\"Eating\")\n",
    "\n",
    "class Mammal(Animal):\n",
    "    def walk(self):\n",
    "        print(\"Walking\")\n",
    "\n",
    "class Dog(Mammal):\n",
    "    def bark(self):\n",
    "        print(\"Barking\")\n",
    "\n",
    "# Create an instance of Dog\n",
    "dog = Dog()\n",
    "dog.eat()  # Output: Eating\n",
    "dog.walk()  # Output: Walking\n",
    "dog.bark()  # Output: Barking\n"
   ]
  },
  {
   "cell_type": "code",
   "execution_count": 10,
   "id": "1e8c8e50-f17e-4f71-a092-0d01c92de75c",
   "metadata": {},
   "outputs": [
    {
     "name": "stdout",
     "output_type": "stream",
     "text": [
      "Eating\n",
      "Barking\n",
      "Eating\n",
      "Meowing\n"
     ]
    }
   ],
   "source": [
    "#(iv)Hierarchical Inheritance\n",
    "class Animal:\n",
    "    def eat(self):\n",
    "        print(\"Eating\")\n",
    "\n",
    "class Dog(Animal):\n",
    "    def bark(self):\n",
    "        print(\"Barking\")\n",
    "\n",
    "class Cat(Animal):\n",
    "    def meow(self):\n",
    "        print(\"Meowing\")\n",
    "\n",
    "# Create instances of Dog and Cat\n",
    "dog = Dog()\n",
    "dog.eat()  # Output: Eating\n",
    "dog.bark()  # Output: Barking\n",
    "\n",
    "cat = Cat()\n",
    "cat.eat()  # Output: Eating\n",
    "cat.meow()  # Output: Meowing\n"
   ]
  },
  {
   "cell_type": "code",
   "execution_count": 11,
   "id": "977b630b-affe-4efe-98cd-67d7746e77c1",
   "metadata": {},
   "outputs": [
    {
     "name": "stdout",
     "output_type": "stream",
     "text": [
      "Eating\n",
      "Flying\n",
      "Swimming\n",
      "Quacking\n"
     ]
    }
   ],
   "source": [
    "#(v)Hybrid Inheritance\n",
    "class Animal:\n",
    "    def eat(self):\n",
    "        print(\"Eating\")\n",
    "\n",
    "class Bird(Animal):\n",
    "    def fly(self):\n",
    "        print(\"Flying\")\n",
    "\n",
    "class Swimmer(Animal):\n",
    "    def swim(self):\n",
    "        print(\"Swimming\")\n",
    "\n",
    "class Duck(Bird, Swimmer):\n",
    "    def quack(self):\n",
    "        print(\"Quacking\")\n",
    "\n",
    "# Create an instance of Duck\n",
    "duck = Duck()\n",
    "duck.eat()  # Output: Eating\n",
    "duck.fly()  # Output: Flying\n",
    "duck.swim()  # Output: Swimming\n",
    "duck.quack()  # Output: Quacking\n"
   ]
  },
  {
   "cell_type": "code",
   "execution_count": null,
   "id": "52f66151-f84a-4149-afb6-ccf3838afba9",
   "metadata": {},
   "outputs": [],
   "source": []
  },
  {
   "cell_type": "code",
   "execution_count": null,
   "id": "716a6192-6d1e-499f-a4db-ef362ddce42b",
   "metadata": {},
   "outputs": [],
   "source": []
  },
  {
   "cell_type": "code",
   "execution_count": null,
   "id": "07b6323c-835e-4b46-afaa-a3aef3db3dec",
   "metadata": {},
   "outputs": [],
   "source": []
  },
  {
   "cell_type": "code",
   "execution_count": null,
   "id": "8216a46a-9de5-4e5b-8954-5d5b63c9cd73",
   "metadata": {},
   "outputs": [],
   "source": []
  },
  {
   "cell_type": "code",
   "execution_count": null,
   "id": "05f0a069-297b-4cd8-be19-8f1aa1975ce3",
   "metadata": {},
   "outputs": [],
   "source": []
  },
  {
   "cell_type": "code",
   "execution_count": null,
   "id": "f0013097-5ec5-498b-80eb-2cc50ef6f236",
   "metadata": {},
   "outputs": [],
   "source": []
  },
  {
   "cell_type": "code",
   "execution_count": null,
   "id": "155e58a8-c4c6-4d1b-827a-0432cf09df8b",
   "metadata": {},
   "outputs": [],
   "source": []
  },
  {
   "cell_type": "code",
   "execution_count": null,
   "id": "1f79f3d7-1b1c-4235-8240-140a9a364854",
   "metadata": {},
   "outputs": [],
   "source": []
  },
  {
   "cell_type": "code",
   "execution_count": null,
   "id": "8fedbb23-2833-4824-b4eb-6790587da8d9",
   "metadata": {},
   "outputs": [],
   "source": []
  },
  {
   "cell_type": "code",
   "execution_count": null,
   "id": "2cea3df0-8541-426a-9bce-cda29739ddef",
   "metadata": {},
   "outputs": [],
   "source": []
  },
  {
   "cell_type": "code",
   "execution_count": null,
   "id": "8565f006-5d65-4451-9cd3-8cc03786a862",
   "metadata": {},
   "outputs": [],
   "source": []
  },
  {
   "cell_type": "code",
   "execution_count": null,
   "id": "6f28bb9d-f955-4f84-ac5e-2187e430b6c9",
   "metadata": {},
   "outputs": [],
   "source": []
  },
  {
   "cell_type": "code",
   "execution_count": null,
   "id": "e912ef9a-a4db-4f17-adee-eb169b9b0fea",
   "metadata": {},
   "outputs": [],
   "source": []
  },
  {
   "cell_type": "code",
   "execution_count": null,
   "id": "1485dfdb-3217-4810-bfe3-aa0f1495d148",
   "metadata": {},
   "outputs": [],
   "source": []
  }
 ],
 "metadata": {
  "kernelspec": {
   "display_name": "Python 3 (ipykernel)",
   "language": "python",
   "name": "python3"
  },
  "language_info": {
   "codemirror_mode": {
    "name": "ipython",
    "version": 3
   },
   "file_extension": ".py",
   "mimetype": "text/x-python",
   "name": "python",
   "nbconvert_exporter": "python",
   "pygments_lexer": "ipython3",
   "version": "3.10.8"
  }
 },
 "nbformat": 4,
 "nbformat_minor": 5
}
