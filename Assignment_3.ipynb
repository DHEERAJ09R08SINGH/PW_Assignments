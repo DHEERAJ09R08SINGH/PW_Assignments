{
 "cells": [
  {
   "cell_type": "markdown",
   "id": "966d15d2-60f6-4047-ab2f-a2904a898c6e",
   "metadata": {},
   "source": [
    "# Assignment_3 Questions & Answers :-"
   ]
  },
  {
   "cell_type": "markdown",
   "id": "757f0087-6034-4f1e-aec4-b2ad8ff7556b",
   "metadata": {},
   "source": [
    "### Q1. Which keyword is used to create a function? Create a function to return a list of odd numbers in the range of 1 to 25.\n",
    "### Ans.\n",
    "#### The keyword used to create a function in Python is def."
   ]
  },
  {
   "cell_type": "code",
   "execution_count": 1,
   "id": "ffe57433-997b-47da-a81a-f3f30e1d1114",
   "metadata": {},
   "outputs": [],
   "source": [
    "#function:-\n",
    "def odd_numbers():\n",
    "    l1=[]\n",
    "    l2=[]\n",
    "    for i in range(1,26):\n",
    "        if i % 2 == 0: # for even\n",
    "            l1.append(i)\n",
    "        else:\n",
    "            l2.append(i)\n",
    "    return l2"
   ]
  },
  {
   "cell_type": "code",
   "execution_count": 2,
   "id": "21824e83-0535-4ac6-b875-b0d7ee1bc934",
   "metadata": {},
   "outputs": [
    {
     "name": "stdout",
     "output_type": "stream",
     "text": [
      "[1, 3, 5, 7, 9, 11, 13, 15, 17, 19, 21, 23, 25]\n"
     ]
    }
   ],
   "source": [
    "print(odd_numbers())"
   ]
  },
  {
   "cell_type": "markdown",
   "id": "4e8a5612-2e8e-4772-8f04-ebdce92bb234",
   "metadata": {},
   "source": [
    "### Q2. Why *args and **kwargs is used in some functions? Create a function each for *args and **kwargs to demonstrate their use.\n",
    "### Ans:-"
   ]
  },
  {
   "cell_type": "markdown",
   "id": "a4c16bb5-06ac-4b9b-b54a-37927df271df",
   "metadata": {},
   "source": [
    "### The *args and **kwargs are used in Python functions to allow for variable-length arguments.\n",
    "#### (i) *args : allows you to pass a variable number of non-keyword arguments to a function.\n",
    "#### (ii) **kwargs : allows you to pass a variable number of keyword arguments to a function."
   ]
  },
  {
   "cell_type": "code",
   "execution_count": 3,
   "id": "4932bc03-e86e-48cc-a497-6cff8d72dac6",
   "metadata": {},
   "outputs": [
    {
     "name": "stdout",
     "output_type": "stream",
     "text": [
      "6\n",
      "30\n"
     ]
    }
   ],
   "source": [
    "# Function using *args\n",
    "# Here's an example function that demonstrates the use of *args:-\n",
    "def sum_all(*args):\n",
    "    total = 0\n",
    "    for num in args:\n",
    "        total += num\n",
    "    return total\n",
    "\n",
    "# Call the function with different numbers of arguments\n",
    "print(sum_all(1, 2, 3))        # Output: 6\n",
    "print(sum_all(4, 5, 6, 7, 8))  # Output: 30\n"
   ]
  },
  {
   "cell_type": "code",
   "execution_count": 4,
   "id": "759ed24f-3c46-4450-9a27-2a9d2869b039",
   "metadata": {},
   "outputs": [
    {
     "name": "stdout",
     "output_type": "stream",
     "text": [
      "name: Alice\n",
      "age: 30\n",
      "city: New York\n"
     ]
    }
   ],
   "source": [
    "# Function using **kwargs\n",
    "# Here's an example function that demonstrates the use of **kwargs:-\n",
    "def print_details(**kwargs):\n",
    "    for key, value in kwargs.items():\n",
    "        print(f\"{key}: {value}\")\n",
    "\n",
    "# Call the function with different keyword arguments\n",
    "print_details(name=\"Alice\", age=30, city=\"New York\")\n",
    "# Output:\n",
    "# name: Alice\n",
    "# age: 30\n",
    "# city: New York\n"
   ]
  },
  {
   "cell_type": "markdown",
   "id": "64260091-aa68-4ccf-97e7-986d577915d2",
   "metadata": {},
   "source": [
    "### Q3. What is an iterator in python? Name the method used to initialise the iterator object and the method used for iteration. Use these methods to print the first five elements of the given list [2, 4, 6, 8, 10, 12, 14, 16, 18, 20].\n",
    "### Ans:-"
   ]
  },
  {
   "cell_type": "markdown",
   "id": "1a117e5f-6e47-44f4-b140-ff3f68a1f1cd",
   "metadata": {},
   "source": [
    "#### An iterator in Python is an object that is used to iterate over iterable objects like lists, tuples, dicts, & sets. \n",
    "#### The Python iterators object is initialized using the iter() method. \n",
    "#### It uses the next() method for iteration. __next__(): The next method returns the next value for the iterable."
   ]
  },
  {
   "cell_type": "code",
   "execution_count": 7,
   "id": "4de58d3a-55dd-4ca1-ac75-823d18e3b78e",
   "metadata": {},
   "outputs": [
    {
     "name": "stdout",
     "output_type": "stream",
     "text": [
      "2\n",
      "4\n",
      "6\n",
      "8\n",
      "10\n"
     ]
    }
   ],
   "source": [
    "# Create a list\n",
    "numbers = [2, 4, 6, 8, 10, 12, 14, 16, 18, 20]\n",
    "\n",
    "# Get an iterator object using the iter() function\n",
    "iterator = iter(numbers)\n",
    "\n",
    "# Use a loop to get the first five elements using the next() function\n",
    "for _ in range(5):\n",
    "    print(next(iterator))\n"
   ]
  },
  {
   "cell_type": "markdown",
   "id": "87a5a009-e15d-4a18-80bf-b5aee6df2ae9",
   "metadata": {},
   "source": [
    "### Q4. What is a generator function in python? Why yield keyword is used? Give an example of a generator function.\n",
    "### Ans:-\n"
   ]
  },
  {
   "cell_type": "markdown",
   "id": "8fc432c1-ddb9-4b5a-a8d0-734d49197228",
   "metadata": {},
   "source": [
    "#### A generator function in Python is a special type of function that allows you to iterate over a sequence of values without storing them all in memory at once. Instead of using the return statement to return a value and terminate the function, a generator function uses the yield keyword. Each time the yield statement is encountered, the function returns the yielded value and pauses its execution, preserving its state. When the function is called again, it resumes execution right after the yield statement.\n",
    "#### Why use yield?\n",
    "#### (i)Memory Efficiency: Generators are memory efficient because they generate values on the fly and do not store the    entire sequence in memory.\n",
    "#### (ii)Infinite Sequences: Generators can be used to model infinite sequences, where it's not feasible to store all the elements at once.\n",
    "#### (iii)Lazy Evaluation: Values are produced only when requested, which can lead to performance improvements for large datasets."
   ]
  },
  {
   "cell_type": "code",
   "execution_count": 8,
   "id": "92fa3d2f-f997-4774-9c78-dac72b6d45a3",
   "metadata": {},
   "outputs": [
    {
     "name": "stdout",
     "output_type": "stream",
     "text": [
      "0\n",
      "1\n",
      "1\n",
      "2\n",
      "3\n",
      "5\n",
      "8\n",
      "13\n",
      "21\n",
      "34\n"
     ]
    }
   ],
   "source": [
    "# Example of a Generator Function\n",
    "# Here is an example of a generator function that generates the first n numbers in the Fibonacci sequence:\n",
    "def fibonacci(n):\n",
    "    a, b = 0, 1\n",
    "    count = 0\n",
    "    while count < n:\n",
    "        yield a\n",
    "        a, b = b, a + b\n",
    "        count += 1\n",
    "\n",
    "# Using the generator function\n",
    "fib_gen = fibonacci(10)  # Create a generator for the first 10 Fibonacci numbers\n",
    "\n",
    "# Iterate through the generated values\n",
    "for num in fib_gen:\n",
    "    print(num)\n"
   ]
  },
  {
   "cell_type": "markdown",
   "id": "0e49488e-0c0c-45f5-8b70-cadcdb99aa18",
   "metadata": {},
   "source": [
    "### Q5. Create a generator function for prime numbers less than 1000. Use the next() method to print the first 20 prime numbers.\n",
    "### Ans:-\n",
    "#### Generator Function for Prime Numbers\n"
   ]
  },
  {
   "cell_type": "code",
   "execution_count": 9,
   "id": "58264c65-ca1a-40e9-94e4-a867242f0c0b",
   "metadata": {},
   "outputs": [
    {
     "name": "stdout",
     "output_type": "stream",
     "text": [
      "2\n",
      "3\n",
      "5\n",
      "7\n",
      "11\n",
      "13\n",
      "17\n",
      "19\n",
      "23\n",
      "29\n",
      "31\n",
      "37\n",
      "41\n",
      "43\n",
      "47\n",
      "53\n",
      "59\n",
      "61\n",
      "67\n",
      "71\n"
     ]
    }
   ],
   "source": [
    "def prime_numbers():\n",
    "    \"\"\"Generator function to yield prime numbers less than 1000.\"\"\"\n",
    "    for num in range(2, 1000):\n",
    "        is_prime = True\n",
    "        for i in range(2, int(num ** 0.5) + 1):\n",
    "            if num % i == 0:\n",
    "                is_prime = False\n",
    "                break\n",
    "        if is_prime:\n",
    "            yield num\n",
    "\n",
    "# Create the generator object\n",
    "prime_gen = prime_numbers()\n",
    "\n",
    "# Use next() method to print the first 20 prime numbers\n",
    "for _ in range(20):\n",
    "    print(next(prime_gen))\n"
   ]
  },
  {
   "cell_type": "markdown",
   "id": "1ff2db46-9ec3-4c9d-8e7e-0fd7619478cb",
   "metadata": {},
   "source": [
    "### Q6. Write a python program to print the first 10 Fibonacci numbers using a while loop.\n",
    "### Ans:-"
   ]
  },
  {
   "cell_type": "code",
   "execution_count": 10,
   "id": "c8f5b865-3fc9-469d-85df-485787fa946e",
   "metadata": {},
   "outputs": [
    {
     "name": "stdout",
     "output_type": "stream",
     "text": [
      "0\n",
      "1\n",
      "1\n",
      "2\n",
      "3\n",
      "5\n",
      "8\n",
      "13\n",
      "21\n",
      "34\n"
     ]
    }
   ],
   "source": [
    "def print_fibonacci(n):\n",
    "    a, b = 0, 1\n",
    "    count = 0\n",
    "    \n",
    "    while count < n:\n",
    "        print(a)\n",
    "        a, b = b, a + b\n",
    "        count += 1\n",
    "\n",
    "# Call the function to print the first 10 Fibonacci numbers\n",
    "print_fibonacci(10)\n"
   ]
  },
  {
   "cell_type": "markdown",
   "id": "9f62d651-f0b4-44a6-9eff-ca1fbbcced24",
   "metadata": {},
   "source": [
    "### Q7. Write a List Comprehension to iterate through the given string: ‘pwskills’. Expected output: ['p', 'w', 's', 'k', 'i', 'l', 'l', 's']\n",
    "### Ans:-"
   ]
  },
  {
   "cell_type": "code",
   "execution_count": 11,
   "id": "916e36e4-122e-4e0c-af55-7333880d7717",
   "metadata": {},
   "outputs": [
    {
     "name": "stdout",
     "output_type": "stream",
     "text": [
      "['p', 'w', 's', 'k', 'i', 'l', 'l', 's']\n"
     ]
    }
   ],
   "source": [
    "# Given string\n",
    "string = 'pwskills'\n",
    "\n",
    "# List comprehension to iterate through the string\n",
    "output = [char for char in string if char in 'pwskills']\n",
    "\n",
    "# Print the output\n",
    "print(output)\n"
   ]
  },
  {
   "cell_type": "markdown",
   "id": "ee9ed3a3-51d6-4d1a-942e-97734736e551",
   "metadata": {},
   "source": [
    "### Q8. Write a python program to check whether a given number is Palindrome or not using a while loop.\n",
    "### Ans:-"
   ]
  },
  {
   "cell_type": "code",
   "execution_count": 12,
   "id": "68f9c72d-2c79-4817-8bf3-bec3c93bec3b",
   "metadata": {},
   "outputs": [
    {
     "name": "stdin",
     "output_type": "stream",
     "text": [
      "Enter a number:  121\n"
     ]
    },
    {
     "name": "stdout",
     "output_type": "stream",
     "text": [
      "121 is a palindrome.\n"
     ]
    }
   ],
   "source": [
    "def is_palindrome(number):\n",
    "    original_number = number\n",
    "    reversed_number = 0\n",
    "    \n",
    "    while number > 0:\n",
    "        digit = number % 10\n",
    "        reversed_number = reversed_number * 10 + digit\n",
    "        number = number // 10\n",
    "        \n",
    "    return original_number == reversed_number\n",
    "\n",
    "# Input: Check whether the given number is a palindrome\n",
    "number = int(input(\"Enter a number: \"))\n",
    "\n",
    "# Check if the number is a palindrome\n",
    "if is_palindrome(number):\n",
    "    print(f\"{number} is a palindrome.\")\n",
    "else:\n",
    "    print(f\"{number} is not a palindrome.\")\n"
   ]
  },
  {
   "cell_type": "markdown",
   "id": "0e8a0a01-328f-4cf5-856c-9754e52409d5",
   "metadata": {},
   "source": [
    "### Q9. Write a code to print odd numbers from 1 to 100 using list comprehension.\n",
    "#### Note: Use a list comprehension to create a list from 1 to 100 and use another List comprehension to filter out odd numbers.\n",
    "### Ans:-"
   ]
  },
  {
   "cell_type": "code",
   "execution_count": 13,
   "id": "1639162c-ceb6-4a83-bfcc-66c1784375eb",
   "metadata": {},
   "outputs": [
    {
     "name": "stdout",
     "output_type": "stream",
     "text": [
      "[1, 3, 5, 7, 9, 11, 13, 15, 17, 19, 21, 23, 25, 27, 29, 31, 33, 35, 37, 39, 41, 43, 45, 47, 49, 51, 53, 55, 57, 59, 61, 63, 65, 67, 69, 71, 73, 75, 77, 79, 81, 83, 85, 87, 89, 91, 93, 95, 97, 99]\n"
     ]
    }
   ],
   "source": [
    "# Create a list from 1 to 100 using list comprehension\n",
    "numbers = [x for x in range(1, 101)]\n",
    "\n",
    "# Use another list comprehension to filter out odd numbers\n",
    "odd_numbers = [x for x in numbers if x % 2 != 0]\n",
    "\n",
    "# Print the list of odd numbers\n",
    "print(odd_numbers)\n"
   ]
  },
  {
   "cell_type": "code",
   "execution_count": null,
   "id": "b005bfd5-2642-4702-983f-525da4529b2f",
   "metadata": {},
   "outputs": [],
   "source": []
  },
  {
   "cell_type": "code",
   "execution_count": null,
   "id": "403f261d-d879-462f-8bc5-1fafed371413",
   "metadata": {},
   "outputs": [],
   "source": []
  },
  {
   "cell_type": "code",
   "execution_count": null,
   "id": "00cf4494-8661-4914-9b29-4f24ec6c58f3",
   "metadata": {},
   "outputs": [],
   "source": []
  },
  {
   "cell_type": "code",
   "execution_count": null,
   "id": "822495ae-4ffa-4869-9738-cac65ab9bd6f",
   "metadata": {},
   "outputs": [],
   "source": []
  },
  {
   "cell_type": "code",
   "execution_count": null,
   "id": "160db354-e9b2-42d0-b293-abd414123ff1",
   "metadata": {},
   "outputs": [],
   "source": []
  },
  {
   "cell_type": "code",
   "execution_count": null,
   "id": "98228e29-b03c-423b-85fb-5b8f56fb8e47",
   "metadata": {},
   "outputs": [],
   "source": []
  },
  {
   "cell_type": "code",
   "execution_count": null,
   "id": "373c803a-e740-479a-95a9-010b800be39a",
   "metadata": {},
   "outputs": [],
   "source": []
  },
  {
   "cell_type": "code",
   "execution_count": null,
   "id": "d3c5776f-a3f4-45a6-a0d0-d00486b7ffc6",
   "metadata": {},
   "outputs": [],
   "source": []
  },
  {
   "cell_type": "code",
   "execution_count": null,
   "id": "8d56d893-a70f-4fad-a8dd-6fd9acac1063",
   "metadata": {},
   "outputs": [],
   "source": []
  },
  {
   "cell_type": "code",
   "execution_count": null,
   "id": "5a8cc25c-5329-4b58-9575-1aa813ba9cb3",
   "metadata": {},
   "outputs": [],
   "source": []
  }
 ],
 "metadata": {
  "kernelspec": {
   "display_name": "Python 3 (ipykernel)",
   "language": "python",
   "name": "python3"
  },
  "language_info": {
   "codemirror_mode": {
    "name": "ipython",
    "version": 3
   },
   "file_extension": ".py",
   "mimetype": "text/x-python",
   "name": "python",
   "nbconvert_exporter": "python",
   "pygments_lexer": "ipython3",
   "version": "3.10.8"
  }
 },
 "nbformat": 4,
 "nbformat_minor": 5
}
