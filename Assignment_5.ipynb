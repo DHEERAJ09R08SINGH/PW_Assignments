{
 "cells": [
  {
   "cell_type": "markdown",
   "id": "eb940a30-c664-4efb-8f1e-2d57185f19a4",
   "metadata": {},
   "source": [
    "# Assignment_5 Questions & Answers :-"
   ]
  },
  {
   "cell_type": "markdown",
   "id": "799fe037-c976-472d-a575-e713e516b0d0",
   "metadata": {},
   "source": [
    "### Q1, Create a vehicle class with an init method having instance variables as name_of_vehicle, max_speed and average_of_vehicle.\n",
    "### Ans:-\n"
   ]
  },
  {
   "cell_type": "code",
   "execution_count": 1,
   "id": "5b5ca4b3-6c2f-4422-9d7e-ddfbb3ff8d6b",
   "metadata": {},
   "outputs": [
    {
     "name": "stdout",
     "output_type": "stream",
     "text": [
      "Vehicle Name: Car, Max Speed: 200 km/h, Average: 15 km/l\n"
     ]
    }
   ],
   "source": [
    "class Vehicle:\n",
    "    def __init__(self, name_of_vehicle, max_speed, average_of_vehicle):\n",
    "        self.name_of_vehicle = name_of_vehicle\n",
    "        self.max_speed = max_speed\n",
    "        self.average_of_vehicle = average_of_vehicle\n",
    "\n",
    "# Example of creating an instance of the Vehicle class\n",
    "car = Vehicle(\"Car\", 200, 15)\n",
    "print(f\"Vehicle Name: {car.name_of_vehicle}, Max Speed: {car.max_speed} km/h, Average: {car.average_of_vehicle} km/l\")\n"
   ]
  },
  {
   "cell_type": "markdown",
   "id": "672f8c74-6e26-4301-83f8-9fc4fa84e85b",
   "metadata": {},
   "source": [
    "### Q2. Create a child class car from the vehicle class created in Que 1, which will inherit the vehicle class.\n",
    "### Create a method named seating_capacity which takes capacity as an argument and returns the name of the vehicle and its seating capacity."
   ]
  },
  {
   "cell_type": "code",
   "execution_count": 2,
   "id": "7e178367-782d-4932-89b1-fbb1498d772d",
   "metadata": {},
   "outputs": [
    {
     "name": "stdout",
     "output_type": "stream",
     "text": [
      "The Car has a seating capacity of 5.\n"
     ]
    }
   ],
   "source": [
    "class Vehicle:\n",
    "    def __init__(self, name_of_vehicle, max_speed, average_of_vehicle):\n",
    "        self.name_of_vehicle = name_of_vehicle\n",
    "        self.max_speed = max_speed\n",
    "        self.average_of_vehicle = average_of_vehicle\n",
    "\n",
    "class Car(Vehicle):\n",
    "    def seating_capacity(self, capacity):\n",
    "        return f\"The {self.name_of_vehicle} has a seating capacity of {capacity}.\"\n",
    "\n",
    "# Example of creating an instance of the Car class\n",
    "car = Car(\"Car\", 200, 15)\n",
    "print(car.seating_capacity(5))\n"
   ]
  },
  {
   "cell_type": "markdown",
   "id": "51c8335b-3844-4d8e-b3fe-c0f633a552da",
   "metadata": {},
   "source": [
    "### Q3. What is multiple inheritance? Write a python code to demonstrate multiple inheritance.\n",
    "### Ans:-\n",
    "### Multiple inheritance is a feature in object-oriented programming languages (such as Python) where a class can inherit attributes and methods from more than one parent class. This allows the child class to combine and extend the functionality of multiple parent classes."
   ]
  },
  {
   "cell_type": "code",
   "execution_count": 3,
   "id": "83ee51af-694e-4848-997f-9ce56179037a",
   "metadata": {},
   "outputs": [
    {
     "name": "stdout",
     "output_type": "stream",
     "text": [
      "The V6 engine is starting.\n",
      "The Automatic transmission is engaging.\n",
      "Vehicle: Sedan, Max Speed: 180 km/h, Average: 12 km/l, Engine: V6, Transmission: Automatic\n"
     ]
    }
   ],
   "source": [
    "# Here's an example in Python to demonstrate multiple inheritance:-\n",
    "# Parent class 1\n",
    "class Engine:\n",
    "    def __init__(self, engine_type):\n",
    "        self.engine_type = engine_type\n",
    "\n",
    "    def start_engine(self):\n",
    "        return f\"The {self.engine_type} engine is starting.\"\n",
    "\n",
    "# Parent class 2\n",
    "class Transmission:\n",
    "    def __init__(self, transmission_type):\n",
    "        self.transmission_type = transmission_type\n",
    "\n",
    "    def engage_transmission(self):\n",
    "        return f\"The {self.transmission_type} transmission is engaging.\"\n",
    "\n",
    "# Child class inheriting from both Engine and Transmission\n",
    "class Car(Engine, Transmission):\n",
    "    def __init__(self, name_of_vehicle, max_speed, average_of_vehicle, engine_type, transmission_type):\n",
    "        Vehicle.__init__(self, name_of_vehicle, max_speed, average_of_vehicle)\n",
    "        Engine.__init__(self, engine_type)\n",
    "        Transmission.__init__(self, transmission_type)\n",
    "\n",
    "    def car_details(self):\n",
    "        return (f\"Vehicle: {self.name_of_vehicle}, Max Speed: {self.max_speed} km/h, \"\n",
    "                f\"Average: {self.average_of_vehicle} km/l, Engine: {self.engine_type}, \"\n",
    "                f\"Transmission: {self.transmission_type}\")\n",
    "\n",
    "# Demonstration of multiple inheritance\n",
    "car = Car(\"Sedan\", 180, 12, \"V6\", \"Automatic\")\n",
    "print(car.start_engine())\n",
    "print(car.engage_transmission())\n",
    "print(car.car_details())\n"
   ]
  },
  {
   "cell_type": "markdown",
   "id": "8f54d3b4-2915-403c-a81e-187404f7daa5",
   "metadata": {},
   "source": [
    "### Q4. What are getter and setter in python? Create a class and create a getter and a setter method in this class.\n",
    "### Ans:-\n",
    "### In Python, getters and setters are methods used to access and update the values of private or protected attributes of a class. They provide a way to control the access to and modification of these attributes, allowing for validation and encapsulation.\n"
   ]
  },
  {
   "cell_type": "code",
   "execution_count": 4,
   "id": "b6272ce8-faf6-437d-bcb0-11cbab5f153a",
   "metadata": {},
   "outputs": [
    {
     "name": "stdout",
     "output_type": "stream",
     "text": [
      "John\n",
      "30\n",
      "Jane\n",
      "25\n",
      "Name must be a non-empty string.\n",
      "Age must be a positive integer.\n"
     ]
    }
   ],
   "source": [
    "class Person:\n",
    "    def __init__(self, name, age):\n",
    "        self._name = name  # _name is a protected attribute\n",
    "        self._age = age    # _age is a protected attribute\n",
    "\n",
    "    # Getter method for name\n",
    "    @property\n",
    "    def name(self):\n",
    "        return self._name\n",
    "\n",
    "    # Setter method for name\n",
    "    @name.setter\n",
    "    def name(self, value):\n",
    "        if isinstance(value, str) and value.strip():\n",
    "            self._name = value\n",
    "        else:\n",
    "            raise ValueError(\"Name must be a non-empty string.\")\n",
    "\n",
    "    # Getter method for age\n",
    "    @property\n",
    "    def age(self):\n",
    "        return self._age\n",
    "\n",
    "    # Setter method for age\n",
    "    @age.setter\n",
    "    def age(self, value):\n",
    "        if isinstance(value, int) and value > 0:\n",
    "            self._age = value\n",
    "        else:\n",
    "            raise ValueError(\"Age must be a positive integer.\")\n",
    "\n",
    "# Example usage\n",
    "person = Person(\"John\", 30)\n",
    "\n",
    "# Using getter methods\n",
    "print(person.name)  # Output: John\n",
    "print(person.age)   # Output: 30\n",
    "\n",
    "# Using setter methods\n",
    "person.name = \"Jane\"\n",
    "person.age = 25\n",
    "\n",
    "print(person.name)  # Output: Jane\n",
    "print(person.age)   # Output: 25\n",
    "\n",
    "# Attempt to set invalid values\n",
    "try:\n",
    "    person.name = \"\"\n",
    "except ValueError as e:\n",
    "    print(e)  # Output: Name must be a non-empty string.\n",
    "\n",
    "try:\n",
    "    person.age = -5\n",
    "except ValueError as e:\n",
    "    print(e)  # Output: Age must be a positive integer.\n"
   ]
  },
  {
   "cell_type": "markdown",
   "id": "01d2f65c-c3bf-4b63-a1d6-4510b173a0ad",
   "metadata": {},
   "source": [
    "### Q5.What is method overriding in python? Write a python code to demonstrate method overriding.\n",
    "### Ans:-\n",
    "### Method overriding in Python occurs when a subclass provides a specific implementation of a method that is already defined in its superclass. This allows the subclass to provide a behavior that is specific to its context while retaining the same method signature."
   ]
  },
  {
   "cell_type": "code",
   "execution_count": 5,
   "id": "49ff900e-6564-40b3-91f1-7e80cee344fe",
   "metadata": {},
   "outputs": [
    {
     "name": "stdout",
     "output_type": "stream",
     "text": [
      "Some generic animal sound\n",
      "Bark\n",
      "Meow\n"
     ]
    }
   ],
   "source": [
    "# Here's an example to demonstrate method overriding:-\n",
    "# Base class\n",
    "class Animal:\n",
    "    def sound(self):\n",
    "        return \"Some generic animal sound\"\n",
    "\n",
    "# Derived class\n",
    "class Dog(Animal):\n",
    "    def sound(self):\n",
    "        return \"Bark\"\n",
    "\n",
    "# Another derived class\n",
    "class Cat(Animal):\n",
    "    def sound(self):\n",
    "        return \"Meow\"\n",
    "\n",
    "# Example usage\n",
    "generic_animal = Animal()\n",
    "dog = Dog()\n",
    "cat = Cat()\n",
    "\n",
    "print(generic_animal.sound())  # Output: Some generic animal sound\n",
    "print(dog.sound())             # Output: Bark\n",
    "print(cat.sound())             # Output: Meow\n"
   ]
  },
  {
   "cell_type": "code",
   "execution_count": null,
   "id": "f3e5acf0-6f62-4a0f-b285-8500013d46aa",
   "metadata": {},
   "outputs": [],
   "source": []
  },
  {
   "cell_type": "code",
   "execution_count": null,
   "id": "41e0a7df-d582-43a2-9cf5-8d571f561f75",
   "metadata": {},
   "outputs": [],
   "source": []
  },
  {
   "cell_type": "code",
   "execution_count": null,
   "id": "058b270a-b91a-4623-8120-6001c8fd476c",
   "metadata": {},
   "outputs": [],
   "source": []
  },
  {
   "cell_type": "code",
   "execution_count": null,
   "id": "91081771-8fed-4ccb-aafd-e93b9dc8a2ed",
   "metadata": {},
   "outputs": [],
   "source": []
  },
  {
   "cell_type": "code",
   "execution_count": null,
   "id": "f8e2d9f0-c66b-444d-9851-2260689f279b",
   "metadata": {},
   "outputs": [],
   "source": []
  },
  {
   "cell_type": "code",
   "execution_count": null,
   "id": "163d4b34-bbeb-445b-bdd6-dc006d0ff24b",
   "metadata": {},
   "outputs": [],
   "source": []
  },
  {
   "cell_type": "code",
   "execution_count": null,
   "id": "490ae1cf-7e0b-4130-8a76-92495b953b64",
   "metadata": {},
   "outputs": [],
   "source": []
  },
  {
   "cell_type": "code",
   "execution_count": null,
   "id": "5417b184-8932-4ef3-954f-e3bda6c88dc9",
   "metadata": {},
   "outputs": [],
   "source": []
  },
  {
   "cell_type": "code",
   "execution_count": null,
   "id": "b7702fe1-9bef-4a67-a895-08f00e6e18c1",
   "metadata": {},
   "outputs": [],
   "source": []
  },
  {
   "cell_type": "code",
   "execution_count": null,
   "id": "1f48b3e7-a3f2-431d-81bd-10cc6b47b9ce",
   "metadata": {},
   "outputs": [],
   "source": []
  }
 ],
 "metadata": {
  "kernelspec": {
   "display_name": "Python 3 (ipykernel)",
   "language": "python",
   "name": "python3"
  },
  "language_info": {
   "codemirror_mode": {
    "name": "ipython",
    "version": 3
   },
   "file_extension": ".py",
   "mimetype": "text/x-python",
   "name": "python",
   "nbconvert_exporter": "python",
   "pygments_lexer": "ipython3",
   "version": "3.10.8"
  }
 },
 "nbformat": 4,
 "nbformat_minor": 5
}
