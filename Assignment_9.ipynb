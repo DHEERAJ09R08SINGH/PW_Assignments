{
 "cells": [
  {
   "cell_type": "markdown",
   "id": "5e1d34ff-9204-4aed-84d7-530e02786330",
   "metadata": {},
   "source": [
    "# Assignment_9 Questions & Answers :-"
   ]
  },
  {
   "cell_type": "markdown",
   "id": "a901b791-b320-40c9-919d-948d0f4fb261",
   "metadata": {},
   "source": [
    "### Q1. Explain why we have to use the Exception class while creating a Custom Exception.\n",
    "#####     Note: Here Exception class refers to the base class for all the exceptions.\n",
    "### Ans:-\n",
    "### Creating a custom exception class by inheriting from the Exception class (or another built-in exception class) is crucial for several reasons:\n",
    "\n",
    "1. Consistency with Exception Hierarchy :\n",
    "The Exception class is the base class for all built-in, non-exit exceptions in Python. By inheriting from it, your custom exception fits into the existing exception hierarchy, ensuring it behaves like other exceptions. This means it can be caught by general except Exception blocks, making it easier for other developers to handle your custom exceptions appropriately.\n",
    "\n",
    "2. Standard Features and Behaviors :\n",
    "Inheriting from the Exception class gives your custom exception all the standard behaviors and features of an exception. This includes attributes like the exception message, and the ability to be raised and caught using try and except blocks. You don't have to re-implement these features from scratch.\n",
    "\n",
    "3. Readability and Maintainability :\n",
    "Using the Exception class helps in making your code more readable and maintainable. Other developers (or even you, in the future) can immediately understand that a custom class is an exception because it inherits from Exception. It follows the Python community's conventions and best practices, which helps in collaborative environments.\n",
    "\n",
    "4. Specificity in Error Handling :\n",
    "By creating custom exceptions, you provide more specificity in error handling. Instead of catching a generic Exception, you can catch specific exceptions, making your error handling code more precise and reducing the risk of catching unintended exceptions."
   ]
  },
  {
   "cell_type": "code",
   "execution_count": 1,
   "id": "a9bf0cd3-a977-41cf-b81d-5bc5a3c10ad1",
   "metadata": {},
   "outputs": [],
   "source": [
    "class MyCustomException(Exception):\n",
    "    def __init__(self, message):\n",
    "        super().__init__(message)\n"
   ]
  },
  {
   "cell_type": "markdown",
   "id": "33931a3b-57c5-4c85-aba8-3b59b90478a2",
   "metadata": {},
   "source": [
    "###\n",
    "5. Extensibility :\n",
    "Custom exceptions can be extended further. If your application grows and requires more specific exceptions, you can easily create a hierarchy of custom exceptions, all of which stem from a base custom exception that inherits from Exception."
   ]
  },
  {
   "cell_type": "code",
   "execution_count": 2,
   "id": "55859957-0179-466d-bb84-ac1715ebf51b",
   "metadata": {},
   "outputs": [],
   "source": [
    "# Example of a Custom Exception Hierarchy :-\n",
    "class MyAppException(Exception):\n",
    "    \"\"\"Base class for other exceptions in my application.\"\"\"\n",
    "    pass\n",
    "\n",
    "class ValidationError(MyAppException):\n",
    "    \"\"\"Raised when a validation error occurs.\"\"\"\n",
    "    pass\n",
    "\n",
    "class DatabaseError(MyAppException):\n",
    "    \"\"\"Raised when a database error occurs.\"\"\"\n",
    "    pass\n"
   ]
  },
  {
   "cell_type": "markdown",
   "id": "cb0b69c7-26f5-4624-b17d-4a21ecbc61bb",
   "metadata": {},
   "source": [
    "##### Summary\n",
    "Using the Exception class while creating a custom exception is essential because it ensures that your custom exceptions integrate smoothly with Python's exception-handling mechanism, provides standard functionality, maintains code readability and maintainability, allows for specific error handling, and offers extensibility for future needs."
   ]
  },
  {
   "cell_type": "markdown",
   "id": "2207dce9-5c62-40bf-9982-e289506b63c6",
   "metadata": {},
   "source": [
    "### Q2. Write a python program to print Python Exception Hierarchy.\n",
    "### Ans:-\n",
    "#### This program uses the inspect module to introspect the class hierarchy of exceptions starting from the base BaseException class.\n"
   ]
  },
  {
   "cell_type": "code",
   "execution_count": 3,
   "id": "d1144323-883a-4b8c-b2c8-d46b582a8b6d",
   "metadata": {},
   "outputs": [
    {
     "name": "stdout",
     "output_type": "stream",
     "text": [
      "BaseException\n",
      "    Exception\n",
      "        TypeError\n",
      "            FloatOperation\n",
      "            MultipartConversionError\n",
      "        StopAsyncIteration\n",
      "        StopIteration\n",
      "        ImportError\n",
      "            ModuleNotFoundError\n",
      "            ZipImportError\n",
      "        OSError\n",
      "            ConnectionError\n",
      "                BrokenPipeError\n",
      "                ConnectionAbortedError\n",
      "                ConnectionRefusedError\n",
      "                ConnectionResetError\n",
      "                    RemoteDisconnected\n",
      "            BlockingIOError\n",
      "            ChildProcessError\n",
      "            FileExistsError\n",
      "            FileNotFoundError\n",
      "            IsADirectoryError\n",
      "            NotADirectoryError\n",
      "            InterruptedError\n",
      "                InterruptedSystemCall\n",
      "            PermissionError\n",
      "            ProcessLookupError\n",
      "            TimeoutError\n",
      "            UnsupportedOperation\n",
      "            itimer_error\n",
      "            herror\n",
      "            gaierror\n",
      "            SSLError\n",
      "                SSLCertVerificationError\n",
      "                SSLZeroReturnError\n",
      "                SSLWantWriteError\n",
      "                SSLWantReadError\n",
      "                SSLSyscallError\n",
      "                SSLEOFError\n",
      "            Error\n",
      "                SameFileError\n",
      "            SpecialFileError\n",
      "            ExecError\n",
      "            ReadError\n",
      "            URLError\n",
      "                HTTPError\n",
      "                ContentTooShortError\n",
      "            BadGzipFile\n",
      "        EOFError\n",
      "            IncompleteReadError\n",
      "        RuntimeError\n",
      "            RecursionError\n",
      "            NotImplementedError\n",
      "                ZMQVersionError\n",
      "                StdinNotImplementedError\n",
      "            _DeadlockError\n",
      "            BrokenBarrierError\n",
      "            BrokenExecutor\n",
      "                BrokenThreadPool\n",
      "            SendfileNotAvailableError\n",
      "            ExtractionError\n",
      "            VariableError\n",
      "        NameError\n",
      "            UnboundLocalError\n",
      "        AttributeError\n",
      "            FrozenInstanceError\n",
      "        SyntaxError\n",
      "            IndentationError\n",
      "                TabError\n",
      "        LookupError\n",
      "            IndexError\n",
      "            KeyError\n",
      "                NoSuchKernel\n",
      "                UnknownBackend\n",
      "            CodecRegistryError\n",
      "        ValueError\n",
      "            UnicodeError\n",
      "                UnicodeEncodeError\n",
      "                UnicodeDecodeError\n",
      "                UnicodeTranslateError\n",
      "            UnsupportedOperation\n",
      "            JSONDecodeError\n",
      "            SSLCertVerificationError\n",
      "            Error\n",
      "            UnsupportedDigestmodError\n",
      "            IllegalMonthError\n",
      "            IllegalWeekdayError\n",
      "            ParserError\n",
      "            ClassNotFound\n",
      "            ClipboardEmpty\n",
      "            MessageDefect\n",
      "                NoBoundaryInMultipartDefect\n",
      "                StartBoundaryNotFoundDefect\n",
      "                CloseBoundaryNotFoundDefect\n",
      "                FirstHeaderLineIsContinuationDefect\n",
      "                MisplacedEnvelopeHeaderDefect\n",
      "                MissingHeaderBodySeparatorDefect\n",
      "                MultipartInvariantViolationDefect\n",
      "                InvalidMultipartContentTransferEncodingDefect\n",
      "                UndecodableBytesDefect\n",
      "                InvalidBase64PaddingDefect\n",
      "                InvalidBase64CharactersDefect\n",
      "                InvalidBase64LengthDefect\n",
      "                HeaderDefect\n",
      "                    InvalidHeaderDefect\n",
      "                    HeaderMissingRequiredValue\n",
      "                    NonPrintableDefect\n",
      "                    ObsoleteHeaderDefect\n",
      "                    NonASCIILocalPartDefect\n",
      "                    InvalidDateDefect\n",
      "            MacroToEdit\n",
      "            InvalidFileException\n",
      "            UnequalIterablesError\n",
      "            InvalidVersion\n",
      "            _InvalidELFFileHeader\n",
      "            InvalidWheelFilename\n",
      "            InvalidSdistFilename\n",
      "            InvalidSpecifier\n",
      "            InvalidMarker\n",
      "            UndefinedComparison\n",
      "            UndefinedEnvironmentName\n",
      "            InvalidRequirement\n",
      "                RequirementParseError\n",
      "            InvalidVersion\n",
      "        AssertionError\n",
      "        ArithmeticError\n",
      "            FloatingPointError\n",
      "            OverflowError\n",
      "            ZeroDivisionError\n",
      "                DivisionByZero\n",
      "                DivisionUndefined\n",
      "            DecimalException\n",
      "                Clamped\n",
      "                Rounded\n",
      "                    Underflow\n",
      "                    Overflow\n",
      "                Inexact\n",
      "                    Underflow\n",
      "                    Overflow\n",
      "                Subnormal\n",
      "                    Underflow\n",
      "                DivisionByZero\n",
      "                FloatOperation\n",
      "                InvalidOperation\n",
      "                    ConversionSyntax\n",
      "                    DivisionImpossible\n",
      "                    DivisionUndefined\n",
      "                    InvalidContext\n",
      "        SystemError\n",
      "            CodecRegistryError\n",
      "        ReferenceError\n",
      "        MemoryError\n",
      "        BufferError\n",
      "        Warning\n",
      "            UserWarning\n",
      "                GetPassWarning\n",
      "                FormatterWarning\n",
      "            EncodingWarning\n",
      "            DeprecationWarning\n",
      "                ProvisionalWarning\n",
      "            PendingDeprecationWarning\n",
      "            SyntaxWarning\n",
      "            RuntimeWarning\n",
      "                ProactorSelectorThreadWarning\n",
      "                UnknownTimezoneWarning\n",
      "                PEP440Warning\n",
      "            FutureWarning\n",
      "                ProvisionalCompleterWarning\n",
      "            ImportWarning\n",
      "            UnicodeWarning\n",
      "            BytesWarning\n",
      "            ResourceWarning\n",
      "            DeprecatedTzFormatWarning\n",
      "            PkgResourcesDeprecationWarning\n",
      "        _OptionError\n",
      "        _Error\n",
      "        error\n",
      "        Verbose\n",
      "        Error\n",
      "        SubprocessError\n",
      "            CalledProcessError\n",
      "            TimeoutExpired\n",
      "        TokenError\n",
      "        StopTokenizing\n",
      "        ClassFoundException\n",
      "        EndOfBlock\n",
      "        TraitError\n",
      "        Error\n",
      "        Error\n",
      "            CancelledError\n",
      "            TimeoutError\n",
      "            InvalidStateError\n",
      "        _GiveupOnSendfile\n",
      "        error\n",
      "        Incomplete\n",
      "        TimeoutError\n",
      "        InvalidStateError\n",
      "        LimitOverrunError\n",
      "        QueueEmpty\n",
      "        QueueFull\n",
      "        Empty\n",
      "        Full\n",
      "        ArgumentError\n",
      "        ZMQBaseError\n",
      "            ZMQError\n",
      "                ContextTerminated\n",
      "                Again\n",
      "                InterruptedSystemCall\n",
      "            ZMQBindError\n",
      "            NotDone\n",
      "        PickleError\n",
      "            PicklingError\n",
      "            UnpicklingError\n",
      "        _Stop\n",
      "        ArgumentError\n",
      "        ArgumentTypeError\n",
      "        ConfigError\n",
      "            ConfigLoaderError\n",
      "                ArgumentError\n",
      "            ConfigFileNotFound\n",
      "        ConfigurableError\n",
      "            MultipleInstanceError\n",
      "        ApplicationError\n",
      "        error\n",
      "        TimeoutError\n",
      "        error\n",
      "        ReturnValueIgnoredError\n",
      "        KeyReuseError\n",
      "        UnknownKeyError\n",
      "        LeakedCallbackError\n",
      "        BadYieldError\n",
      "        ReturnValueIgnoredError\n",
      "        Return\n",
      "        InvalidPortNumber\n",
      "        error\n",
      "        LZMAError\n",
      "        RegistryError\n",
      "        _GiveupOnFastCopy\n",
      "        Error\n",
      "            NoSectionError\n",
      "            DuplicateSectionError\n",
      "            DuplicateOptionError\n",
      "            NoOptionError\n",
      "            InterpolationError\n",
      "                InterpolationMissingOptionError\n",
      "                InterpolationSyntaxError\n",
      "                InterpolationDepthError\n",
      "            ParsingError\n",
      "                MissingSectionHeaderError\n",
      "        NoIPAddresses\n",
      "        BadZipFile\n",
      "        LargeZipFile\n",
      "        BadEntryPoint\n",
      "        NoSuchEntryPoint\n",
      "        DuplicateKernelError\n",
      "        ErrorDuringImport\n",
      "        NotOneValueFound\n",
      "        CannotEval\n",
      "        OptionError\n",
      "        BdbQuit\n",
      "        Restart\n",
      "        ExceptionPexpect\n",
      "            EOF\n",
      "            TIMEOUT\n",
      "        PtyProcessError\n",
      "        FindCmdError\n",
      "        HomeDirError\n",
      "        ProfileDirError\n",
      "        IPythonCoreError\n",
      "            TryNext\n",
      "            UsageError\n",
      "            StdinNotImplementedError\n",
      "        InputRejected\n",
      "        GetoptError\n",
      "        ErrorToken\n",
      "        PrefilterError\n",
      "        AliasError\n",
      "            InvalidAliasError\n",
      "        Error\n",
      "            InterfaceError\n",
      "            DatabaseError\n",
      "                InternalError\n",
      "                OperationalError\n",
      "                ProgrammingError\n",
      "                IntegrityError\n",
      "                DataError\n",
      "                NotSupportedError\n",
      "        Warning\n",
      "        SpaceInInput\n",
      "        DOMException\n",
      "            IndexSizeErr\n",
      "            DomstringSizeErr\n",
      "            HierarchyRequestErr\n",
      "            WrongDocumentErr\n",
      "            InvalidCharacterErr\n",
      "            NoDataAllowedErr\n",
      "            NoModificationAllowedErr\n",
      "            NotFoundErr\n",
      "            NotSupportedErr\n",
      "            InuseAttributeErr\n",
      "            InvalidStateErr\n",
      "            SyntaxErr\n",
      "            InvalidModificationErr\n",
      "            NamespaceErr\n",
      "            InvalidAccessErr\n",
      "            ValidationErr\n",
      "        ValidationError\n",
      "        EditReadOnlyBuffer\n",
      "        _Retry\n",
      "        InvalidLayoutError\n",
      "        HeightIsUnknownError\n",
      "        ParserSyntaxError\n",
      "        InternalParseError\n",
      "        _PositionUpdatingFinished\n",
      "        SimpleGetItemNotFound\n",
      "        UncaughtAttributeError\n",
      "        HasNoContext\n",
      "        ParamIssue\n",
      "        _JediError\n",
      "            InternalError\n",
      "            WrongVersion\n",
      "            RefactoringError\n",
      "        OnErrorLeaf\n",
      "        InvalidPythonEnvironment\n",
      "        MessageError\n",
      "            MessageParseError\n",
      "                HeaderParseError\n",
      "                BoundaryError\n",
      "            MultipartConversionError\n",
      "            CharsetError\n",
      "        Error\n",
      "        HTTPException\n",
      "            NotConnected\n",
      "            InvalidURL\n",
      "            UnknownProtocol\n",
      "            UnknownTransferEncoding\n",
      "            UnimplementedFileMode\n",
      "            IncompleteRead\n",
      "            ImproperConnectionState\n",
      "                CannotSendRequest\n",
      "                CannotSendHeader\n",
      "                ResponseNotReady\n",
      "            BadStatusLine\n",
      "                RemoteDisconnected\n",
      "            LineTooLong\n",
      "        InteractivelyDefined\n",
      "        KillEmbedded\n",
      "        Error\n",
      "            NoSuchProcess\n",
      "                ZombieProcess\n",
      "            AccessDenied\n",
      "            TimeoutExpired\n",
      "        _Ipv6UnsupportedError\n",
      "        QueueEmpty\n",
      "        QueueFull\n",
      "        DebuggerInitializationError\n",
      "        ExpatError\n",
      "        Error\n",
      "            ProtocolError\n",
      "            ResponseError\n",
      "            Fault\n",
      "        ParseBaseException\n",
      "            ParseException\n",
      "            ParseFatalException\n",
      "                ParseSyntaxException\n",
      "        RecursiveGrammarException\n",
      "        ResolutionError\n",
      "            VersionConflict\n",
      "                ContextualVersionConflict\n",
      "            DistributionNotFound\n",
      "            UnknownExtra\n",
      "        _Error\n",
      "        UnableToResolveVariableException\n",
      "        InvalidTypeInArgsException\n",
      "        MyCustomException\n",
      "        MyAppException\n",
      "            ValidationError\n",
      "            DatabaseError\n",
      "    GeneratorExit\n",
      "    SystemExit\n",
      "    KeyboardInterrupt\n",
      "    CancelledError\n",
      "    AbortThread\n"
     ]
    }
   ],
   "source": [
    "import inspect\n",
    "\n",
    "def print_exception_hierarchy(cls, indent=0):\n",
    "    \"\"\"Recursively print the exception hierarchy.\"\"\"\n",
    "    print(' ' * indent + cls.__name__)\n",
    "    for subclass in cls.__subclasses__():\n",
    "        print_exception_hierarchy(subclass, indent + 4)\n",
    "\n",
    "# Start with the base class\n",
    "print_exception_hierarchy(BaseException)\n"
   ]
  },
  {
   "cell_type": "markdown",
   "id": "9ff5297c-d3d5-4f1d-a196-3b980746da39",
   "metadata": {},
   "source": [
    "This script defines a function print_exception_hierarchy that recursively traverses and prints the subclass tree of exceptions starting from BaseException, which is the base class for all exceptions in Python. It uses the __subclasses__() method to get the direct subclasses of a class and then prints them with appropriate indentation to reflect the hierarchy."
   ]
  },
  {
   "cell_type": "markdown",
   "id": "e628fec0-b98d-43a3-87cc-d0fb29f8d399",
   "metadata": {},
   "source": [
    "### Q3. What errors are defined in the ArithmeticError class? Explain any two with an example.\n",
    "### Ans:-\n",
    "#### The ArithmeticError class is a built-in exception base class in Python for errors that occur for numeric calculations. \n",
    "#### There are three primary errors defined under the ArithmeticError class:\n",
    "    (i)FloatingPointError\n",
    "    \n",
    "    (ii)OverflowError\n",
    "    \n",
    "    (iii)ZeroDivisionError \n",
    "    \n",
    "#### Let's explain OverflowError and ZeroDivisionError with examples.\n",
    "\n",
    "#####  #1.OverflowError :\n",
    "OverflowError is raised when a numerical operation results in a number that exceeds the limits of the data type used to represent it. This commonly happens with floating-point operations. "
   ]
  },
  {
   "cell_type": "code",
   "execution_count": 5,
   "id": "85cc7d3f-03c9-44fc-b970-8c170f381962",
   "metadata": {},
   "outputs": [
    {
     "name": "stdout",
     "output_type": "stream",
     "text": [
      "OverflowError: math range error\n"
     ]
    }
   ],
   "source": [
    "# Example of OverflowError:-\n",
    "import math\n",
    "\n",
    "try:\n",
    "    # Attempt to compute an exponential large number\n",
    "    result = math.exp(1000)\n",
    "except OverflowError as e:\n",
    "    print(f\"OverflowError: {e}\")\n"
   ]
  },
  {
   "cell_type": "markdown",
   "id": "46df28c6-1c54-4bbd-96be-2831bd598f31",
   "metadata": {},
   "source": [
    "Explanation:-\n",
    "In this example, math.exp(1000) tries to compute e^1000 which is an extremely large number that cannot be represented within the limits of floating-point numbers, causing an OverflowError."
   ]
  },
  {
   "cell_type": "markdown",
   "id": "3472b462-f23d-4813-b87f-857e6712071e",
   "metadata": {},
   "source": [
    "##### #2.ZeroDivisionError :\n",
    "ZeroDivisionError is raised when a division or modulo operation is performed with zero as the divisor."
   ]
  },
  {
   "cell_type": "code",
   "execution_count": 6,
   "id": "25bc61e1-97b6-4229-8cc6-763ef5952728",
   "metadata": {},
   "outputs": [
    {
     "name": "stdout",
     "output_type": "stream",
     "text": [
      "ZeroDivisionError: division by zero\n"
     ]
    }
   ],
   "source": [
    "# Example of ZeroDivisionError :-\n",
    "try:\n",
    "    # Attempt to divide by zero\n",
    "    result = 10 / 0\n",
    "except ZeroDivisionError as e:\n",
    "    print(f\"ZeroDivisionError: {e}\")\n"
   ]
  },
  {
   "cell_type": "markdown",
   "id": "dac8ded1-790a-4034-9e9b-222a4c4f24e8",
   "metadata": {},
   "source": [
    "Explanation:-\n",
    "In this example, the operation 10 / 0 attempts to divide 10 by 0, which is mathematically undefined and raises a ZeroDivisionError."
   ]
  },
  {
   "cell_type": "markdown",
   "id": "a3f5fab9-cc68-4fb3-b173-28fb85a3e99d",
   "metadata": {},
   "source": [
    "### Q4. Why LookupError class is used? Explain with an example KeyError and IndexError.\n",
    "### Ans:-\n",
    "\n"
   ]
  },
  {
   "cell_type": "markdown",
   "id": "544ffb0c-09b1-4f17-ab68-e785c4b7b19e",
   "metadata": {},
   "source": [
    "#### The LookupError class is a built-in exception class in Python that serves as the base class for errors raised when a lookup operation fails. This includes errors that occur when attempting to access elements in sequences or mappings that do not exist. The primary purpose of LookupError is to provide a common base class for exceptions related to failed lookups, allowing for broader exception handling if needed.\n",
    "\n",
    "### #KeyError :-\n",
    "KeyError is raised when a dictionary (or other mapping) is accessed with a key that does not exist."
   ]
  },
  {
   "cell_type": "code",
   "execution_count": 8,
   "id": "f259b684-8a84-4161-87f0-1e64c20f960b",
   "metadata": {},
   "outputs": [
    {
     "name": "stdout",
     "output_type": "stream",
     "text": [
      "KeyError: 'd'\n"
     ]
    }
   ],
   "source": [
    "try:\n",
    "    my_dict = {'a': 1, 'b': 2, 'c': 3}\n",
    "    value = my_dict['d']  # Key 'd' does not exist\n",
    "except KeyError as e:\n",
    "    print(f\"KeyError: {e}\")\n"
   ]
  },
  {
   "cell_type": "markdown",
   "id": "4e339c7b-50ef-4b65-8174-becdebf1b7f4",
   "metadata": {},
   "source": [
    "Explanation:-\n",
    "In this example, trying to access my_dict['d'] raises a KeyError because the key 'd' is not present in the dictionary my_dict."
   ]
  },
  {
   "cell_type": "markdown",
   "id": "9cbcc9e0-7d43-42dc-9d61-b4dd8935cf8c",
   "metadata": {},
   "source": [
    "### #IndexError\n",
    "IndexError is raised when a sequence (such as a list or tuple) is accessed with an index that is out of range."
   ]
  },
  {
   "cell_type": "code",
   "execution_count": 9,
   "id": "c7b59e93-2617-4152-84e5-feb33ec4aa0f",
   "metadata": {},
   "outputs": [
    {
     "name": "stdout",
     "output_type": "stream",
     "text": [
      "IndexError: list index out of range\n"
     ]
    }
   ],
   "source": [
    "# Example of IndexError:-\n",
    "try:\n",
    "    my_list = [1, 2, 3]\n",
    "    value = my_list[5]  # Index 5 is out of range\n",
    "except IndexError as e:\n",
    "    print(f\"IndexError: {e}\")\n"
   ]
  },
  {
   "cell_type": "markdown",
   "id": "8c801e16-35ae-49ff-b89e-1f3c1ca94f18",
   "metadata": {},
   "source": [
    "Explanation:\n",
    "In this example, trying to access my_list[5] raises an IndexError because the index 5 is out of range for the list my_list which only has indices 0, 1, and 2."
   ]
  },
  {
   "cell_type": "markdown",
   "id": "8facc948-a01f-4201-b9de-2d03fd500dfa",
   "metadata": {},
   "source": [
    "### Q5. Explain ImportError. What is ModuleNotFoundError?\n",
    "### Ans:-\n",
    "### #ImportError:-\n",
    "ImportError is a built-in exception in Python that is raised when an import statement fails to import a module or a specific attribute from a module. This can happen for several reasons, such as:\n",
    "\n",
    "(i)The module or attribute does not exist.\n",
    "\n",
    "(ii)There is a circular import (when two or more modules try to import each other).\n",
    "\n",
    "(iii)There are issues with the module's code, like syntax errors or missing dependencies."
   ]
  },
  {
   "cell_type": "code",
   "execution_count": 11,
   "id": "b38532d7-dbde-4e52-8c53-eed9cdc25ff1",
   "metadata": {},
   "outputs": [
    {
     "name": "stdout",
     "output_type": "stream",
     "text": [
      "ImportError: No module named 'non_existent_module'\n"
     ]
    }
   ],
   "source": [
    "# Example of ImportError:-\n",
    "try:\n",
    "    import non_existent_module\n",
    "except ImportError as e:\n",
    "    print(f\"ImportError: {e}\")\n"
   ]
  },
  {
   "cell_type": "markdown",
   "id": "48cdc1a1-d862-4d50-b284-cc4bb7d519ad",
   "metadata": {},
   "source": [
    "Explanation:-\n",
    "In this example, import non_existent_module attempts to import a module that does not exist. This raises an ImportError, which is then caught and printed."
   ]
  },
  {
   "cell_type": "markdown",
   "id": "6e96d79a-8d78-4017-910f-5af25ee96638",
   "metadata": {},
   "source": [
    "### #ModuleNotFoundError:-\n",
    "ModuleNotFoundError is a subclass of ImportError introduced in Python 3.6. It is raised specifically when a module cannot be found. This makes it easier to distinguish between different reasons for an import failure, as ImportError can also be raised for other issues, such as failing to import a name from a module."
   ]
  },
  {
   "cell_type": "code",
   "execution_count": 12,
   "id": "6b7a8e59-933d-4c09-8297-8cb13b09336d",
   "metadata": {},
   "outputs": [
    {
     "name": "stdout",
     "output_type": "stream",
     "text": [
      "ModuleNotFoundError: No module named 'another_non_existent_module'\n"
     ]
    }
   ],
   "source": [
    "# Example of ModuleNotFoundError:-\n",
    "try:\n",
    "    import another_non_existent_module\n",
    "except ModuleNotFoundError as e:\n",
    "    print(f\"ModuleNotFoundError: {e}\")\n"
   ]
  },
  {
   "cell_type": "markdown",
   "id": "3188c273-01a3-4a30-bc58-ae4ed1ab9b59",
   "metadata": {},
   "source": [
    "Explanation:-\n",
    "In this example, import another_non_existent_module attempts to import a module that does not exist, raising a ModuleNotFoundError. This is a more specific case of ImportError, caught and printed accordingly."
   ]
  },
  {
   "cell_type": "markdown",
   "id": "be7b2c7e-6db8-4e1a-8cbc-e57339a1f8c1",
   "metadata": {},
   "source": [
    "### Q6. List down some best practices for exception handling in python.\n",
    "### Ans:-\n",
    "### Exception handling is a crucial aspect of robust software development. Here are some best practices for handling exceptions in Python:\n",
    "\n",
    "#### 1. Catch Specific Exceptions\n",
    "Catch specific exceptions rather than using a blanket except statement. This helps in understanding and handling different error conditions appropriately."
   ]
  },
  {
   "cell_type": "code",
   "execution_count": 13,
   "id": "24e7918c-4b28-4904-a66e-32b5cf039375",
   "metadata": {},
   "outputs": [],
   "source": [
    "try:\n",
    "    # some code that might raise an exception\n",
    "    pass\n",
    "except ValueError as e:\n",
    "    print(f\"ValueError: {e}\")\n",
    "except KeyError as e:\n",
    "    print(f\"KeyError: {e}\")\n"
   ]
  },
  {
   "cell_type": "markdown",
   "id": "57435e4a-99cc-486c-9d6f-1c6899f52ae8",
   "metadata": {},
   "source": [
    "#### 2. Avoid Bare Except Clauses\n",
    "Avoid using bare except clauses, which can catch unexpected exceptions, including system-exiting exceptions like KeyboardInterrupt and SystemExit."
   ]
  },
  {
   "cell_type": "code",
   "execution_count": 14,
   "id": "bb1ea071-199c-495b-8bd8-940fd43565f3",
   "metadata": {},
   "outputs": [],
   "source": [
    "try:\n",
    "    # some code that might raise an exception\n",
    "    pass\n",
    "except Exception as e:\n",
    "    print(f\"Exception: {e}\")\n"
   ]
  },
  {
   "cell_type": "markdown",
   "id": "61390bdc-c60a-4668-9ea7-669ebb5a0368",
   "metadata": {},
   "source": [
    "### 3. Use Finally for Cleanup\n",
    "Use the finally block to ensure that cleanup code is always executed, regardless of whether an exception was raised or not. \n",
    "\n",
    "#### try:\n",
    "    file = open('example.txt', 'r')\n",
    "    # some code that might raise an exception\n",
    "#### finally:\n",
    "    file.close()  # ensures the file is always closed\n"
   ]
  },
  {
   "cell_type": "markdown",
   "id": "f09a5088-d9d9-4b66-9e55-ed02ba4920ab",
   "metadata": {},
   "source": [
    "#### 4. Avoid Using Exceptions for Control Flow\n",
    "Exceptions should be used for exceptional conditions, not for normal control flow. Using exceptions for regular control flow can make the code harder to understand and less efficient."
   ]
  },
  {
   "cell_type": "code",
   "execution_count": 17,
   "id": "3604a654-2f1c-459c-aaed-9a3d5cc87bfb",
   "metadata": {},
   "outputs": [],
   "source": [
    "# Bad practice\n",
    "try:\n",
    "    value = my_dict['key']\n",
    "except KeyError:\n",
    "    value = 'default_value'\n",
    "\n",
    "# Good practice\n",
    "value = my_dict.get('key', 'default_value')\n"
   ]
  },
  {
   "cell_type": "markdown",
   "id": "8a9243d9-2aee-489e-9538-78ddf2072472",
   "metadata": {},
   "source": [
    "#### 5. Log Exceptions\n",
    "Log exceptions to capture detailed information about errors for debugging and analysis purposes."
   ]
  },
  {
   "cell_type": "code",
   "execution_count": 18,
   "id": "a8af8fed-86e0-433e-8c15-f2dc0e0f6d6c",
   "metadata": {},
   "outputs": [],
   "source": [
    "import logging\n",
    "\n",
    "logging.basicConfig(level=logging.ERROR)\n",
    "\n",
    "try:\n",
    "    # some code that might raise an exception\n",
    "    pass\n",
    "except Exception as e:\n",
    "    logging.error(f\"An error occurred: {e}\")\n"
   ]
  },
  {
   "cell_type": "markdown",
   "id": "8d0fb608-8fa6-4e05-a339-61d54d2ab20f",
   "metadata": {},
   "source": [
    "#### 6. Raise Exceptions with Meaningful Messages\n",
    "When raising exceptions, provide meaningful messages to make it easier to understand the error context.\n",
    "##### if not valid_condition:\n",
    "    raise ValueError(\"The condition is not valid because...\")\n"
   ]
  },
  {
   "cell_type": "markdown",
   "id": "24b6afcd-2bf1-426a-a5c1-3e109fdc4407",
   "metadata": {},
   "source": [
    "#### 7. Define Custom Exceptions for Specific Errors\n",
    "Define custom exceptions for specific error conditions in your application. This makes the error handling more explicit and the code more readable."
   ]
  },
  {
   "cell_type": "code",
   "execution_count": 22,
   "id": "30f9bcf5-186c-4b75-84e3-e886b5643074",
   "metadata": {},
   "outputs": [],
   "source": [
    "class MyCustomError(Exception):\n",
    "    pass\n",
    "\n",
    "def my_function():\n",
    "    if error_condition:\n",
    "        raise MyCustomError(\"An error occurred due to ...\")\n"
   ]
  },
  {
   "cell_type": "markdown",
   "id": "78c77fe9-b637-44a5-b935-df0ddc7c3f67",
   "metadata": {},
   "source": [
    "#### 8. Use Context Managers\n",
    "Use context managers (with statement) to handle resource management and ensure proper cleanup.\n",
    "##### with open('example.txt', 'r') as file:\n",
    "    # process the file\n",
    "    pass\n"
   ]
  },
  {
   "cell_type": "markdown",
   "id": "fd5ab61a-6598-4509-8dda-9bded6daaa5c",
   "metadata": {},
   "source": [
    "#### 9. Document Exceptions\n",
    "Document the exceptions that your functions can raise using docstrings. This helps other developers understand the potential error conditions."
   ]
  },
  {
   "cell_type": "code",
   "execution_count": 23,
   "id": "30a45217-65a4-4a56-bc45-4b41d8eab63e",
   "metadata": {},
   "outputs": [],
   "source": [
    "def divide(a, b):\n",
    "    \"\"\"\n",
    "    Divide two numbers.\n",
    "\n",
    "    :param a: Numerator\n",
    "    :param b: Denominator\n",
    "    :return: Result of division\n",
    "    :raises ZeroDivisionError: If the denominator is zero\n",
    "    \"\"\"\n",
    "    if b == 0:\n",
    "        raise ZeroDivisionError(\"Denominator cannot be zero\")\n",
    "    return a / b\n"
   ]
  },
  {
   "cell_type": "markdown",
   "id": "2127113f-be20-43f6-b351-4248f602add6",
   "metadata": {},
   "source": [
    "#### 10. Gracefully Handle Unexpected Exceptions\n",
    "Provide a fallback mechanism or user-friendly error messages when an unexpected exception occurs to improve user experience."
   ]
  },
  {
   "cell_type": "code",
   "execution_count": 24,
   "id": "926ada38-a04d-46e6-b173-e25189480097",
   "metadata": {},
   "outputs": [],
   "source": [
    "try:\n",
    "    # some code that might raise an exception\n",
    "    pass\n",
    "except Exception as e:\n",
    "    print(f\"An unexpected error occurred: {e}\")\n",
    "    # Optionally, log the error or provide fallback\n"
   ]
  },
  {
   "cell_type": "code",
   "execution_count": null,
   "id": "fb773ce8-b182-4114-b0dc-2a837287e23b",
   "metadata": {},
   "outputs": [],
   "source": []
  },
  {
   "cell_type": "code",
   "execution_count": null,
   "id": "9105c844-8636-4be2-9431-c7a4387d21f7",
   "metadata": {},
   "outputs": [],
   "source": []
  },
  {
   "cell_type": "code",
   "execution_count": null,
   "id": "279f33b4-3494-4bc3-b526-40adce403e7a",
   "metadata": {},
   "outputs": [],
   "source": []
  },
  {
   "cell_type": "code",
   "execution_count": null,
   "id": "31571edf-3d07-46c3-967d-164f2aae396d",
   "metadata": {},
   "outputs": [],
   "source": []
  },
  {
   "cell_type": "code",
   "execution_count": null,
   "id": "7ba28544-ad78-44f2-ab8a-28bc3c9dc8dc",
   "metadata": {},
   "outputs": [],
   "source": []
  },
  {
   "cell_type": "code",
   "execution_count": null,
   "id": "9b8f9833-2582-4a03-a0f5-3eae7e569569",
   "metadata": {},
   "outputs": [],
   "source": []
  },
  {
   "cell_type": "code",
   "execution_count": null,
   "id": "daea7a2f-3c2c-43da-9224-b4a1514c6db8",
   "metadata": {},
   "outputs": [],
   "source": []
  },
  {
   "cell_type": "code",
   "execution_count": null,
   "id": "4e9d0eb6-1ae5-4e43-b681-b89b955ab341",
   "metadata": {},
   "outputs": [],
   "source": []
  }
 ],
 "metadata": {
  "kernelspec": {
   "display_name": "Python 3 (ipykernel)",
   "language": "python",
   "name": "python3"
  },
  "language_info": {
   "codemirror_mode": {
    "name": "ipython",
    "version": 3
   },
   "file_extension": ".py",
   "mimetype": "text/x-python",
   "name": "python",
   "nbconvert_exporter": "python",
   "pygments_lexer": "ipython3",
   "version": "3.10.8"
  }
 },
 "nbformat": 4,
 "nbformat_minor": 5
}
